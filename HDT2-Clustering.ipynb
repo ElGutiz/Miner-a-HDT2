{
 "cells": [
  {
   "cell_type": "markdown",
   "id": "becdce2e",
   "metadata": {},
   "source": [
    "## Haga el preprocesamiento del dataset, explique qué variables no aportan información a la generación de grupos y por qué. Describa con qué variables calculará los grupos."
   ]
  },
  {
   "cell_type": "code",
   "execution_count": null,
   "id": "b04d6c8d",
   "metadata": {},
   "outputs": [],
   "source": []
  },
  {
   "cell_type": "markdown",
   "id": "db3c38b9",
   "metadata": {},
   "source": [
    "## Analice la tendencia al agrupamiento usando el estadístico de Hopkings y la VAT (Visual Assessment of cluster Tendency). Discuta sus resultados e impresiones. "
   ]
  },
  {
   "cell_type": "code",
   "execution_count": null,
   "id": "70ade3f8",
   "metadata": {},
   "outputs": [],
   "source": []
  },
  {
   "cell_type": "markdown",
   "id": "46f3b737",
   "metadata": {},
   "source": [
    "## Determine cuál es el número de grupos a formar más adecuado para los datos que está trabajando. Haga una gráfica de codo y explique la razón de la elección de la cantidad de clústeres con la que trabajará. "
   ]
  },
  {
   "cell_type": "code",
   "execution_count": null,
   "id": "98b19699",
   "metadata": {},
   "outputs": [],
   "source": []
  },
  {
   "cell_type": "markdown",
   "id": "145be5b3",
   "metadata": {},
   "source": [
    "## Utilice 3 algoritmos existentes para agrupamiento. Compare los resultados generados por cada uno."
   ]
  },
  {
   "cell_type": "code",
   "execution_count": null,
   "id": "b9fba15e",
   "metadata": {},
   "outputs": [],
   "source": []
  },
  {
   "cell_type": "markdown",
   "id": "b9cbf909",
   "metadata": {},
   "source": [
    "## Determine la calidad del agrupamiento hecho por cada algoritmo con el método de la silueta. Discuta los resultados. "
   ]
  },
  {
   "cell_type": "code",
   "execution_count": null,
   "id": "7632997c",
   "metadata": {},
   "outputs": [],
   "source": []
  },
  {
   "cell_type": "markdown",
   "id": "47ab3a2a",
   "metadata": {},
   "source": [
    "## Interprete  los  grupos  basado  en  el  conocimiento  que  tiene  de  los  datos.  Recuerde  investigar  las medidas de tendencia central de las variables continuas y las tablas de frecuencia de las variables categóricas pertenecientes a cada grupo. Identifique hallazgos interesantes debido a las agrupaciones y describa para qué le podría servir. "
   ]
  },
  {
   "cell_type": "code",
   "execution_count": null,
   "id": "2d843d85",
   "metadata": {},
   "outputs": [],
   "source": []
  }
 ],
 "metadata": {
  "kernelspec": {
   "display_name": "Python 3 (ipykernel)",
   "language": "python",
   "name": "python3"
  },
  "language_info": {
   "codemirror_mode": {
    "name": "ipython",
    "version": 3
   },
   "file_extension": ".py",
   "mimetype": "text/x-python",
   "name": "python",
   "nbconvert_exporter": "python",
   "pygments_lexer": "ipython3",
   "version": "3.9.7"
  }
 },
 "nbformat": 4,
 "nbformat_minor": 5
}
