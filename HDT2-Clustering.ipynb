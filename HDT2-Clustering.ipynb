{
 "cells": [
  {
   "cell_type": "markdown",
   "id": "fbe55c8c",
   "metadata": {},
   "source": [
    "# Universidad del Valle de Guatemala                                                                      15/02/2022\n",
    "### Mineria de Datos                                                                                                                                      Sección 20\n",
    "### Walter Danilo Saldaña Salguero                                                                                                             19897\n",
    "### Jose Abraham Gutierrez Corado                                                                                                            19111\n",
    "### Javier Alejandro Cotto Argueta                                                                                                              19324"
   ]
  },
  {
   "cell_type": "code",
   "execution_count": 9,
   "id": "0aeb43eb",
   "metadata": {},
   "outputs": [],
   "source": [
    "import pandas as pd\n",
    "import numpy as np\n",
    "import matplotlib.pyplot as plt\n",
    "from sklearn import datasets\n",
    "import seaborn as sb\n",
    "import sklearn.cluster as cluster\n",
    "import sklearn.metrics as metrics\n",
    "import sklearn.preprocessing\n",
    "import scipy.cluster.hierarchy as sch\n",
    "import skfuzzy as fuzz\n",
    "import pylab\n",
    "import sklearn.mixture as mixture\n",
    "#import pyclustertend \n",
    "import random\n",
    "\n",
    "%matplotlib inline\n",
    "from mpl_toolkits.mplot3d import Axes3D\n",
    "plt.rcParams['figure.figsize'] = (16, 9)\n",
    "plt.style.use('ggplot')"
   ]
  },
  {
   "cell_type": "code",
   "execution_count": 10,
   "id": "a272d443",
   "metadata": {},
   "outputs": [],
   "source": [
    "df = pd.read_csv('movies.csv', encoding='unicode_escape')"
   ]
  },
  {
   "cell_type": "markdown",
   "id": "becdce2e",
   "metadata": {},
   "source": [
    "## Haga el preprocesamiento del dataset, explique qué variables no aportan información a la generación de grupos y por qué. Describa con qué variables calculará los grupos."
   ]
  },
  {
   "cell_type": "code",
   "execution_count": 54,
   "id": "b04d6c8d",
   "metadata": {},
   "outputs": [
    {
     "name": "stdout",
     "output_type": "stream",
     "text": [
      "id                             int64\n",
      "budget                         int64\n",
      "genres                        object\n",
      "homePage                      object\n",
      "productionCompany             object\n",
      "productionCompanyCountry      object\n",
      "productionCountry             object\n",
      "revenue                      float64\n",
      "runtime                        int64\n",
      "video                         object\n",
      "director                      object\n",
      "actors                        object\n",
      "actorsPopularity              object\n",
      "actorsCharacter               object\n",
      "originalTitle                 object\n",
      "title                         object\n",
      "originalLanguage              object\n",
      "popularity                   float64\n",
      "releaseDate                   object\n",
      "voteAvg                      float64\n",
      "voteCount                      int64\n",
      "genresAmount                   int64\n",
      "productionCoAmount             int64\n",
      "productionCountriesAmount      int64\n",
      "actorsAmount                   int64\n",
      "castWomenAmount               object\n",
      "castMenAmount                 object\n",
      "dtype: object\n",
      "\n",
      "Observando los tipos de variables y la definición de cada una, descartaremos las mayoría de variables que no nos brinden \n",
      "información númerica, tales como los titulos, nombres, paises, etc.\n",
      "\n",
      "['id', 'originalTitle', 'originalLanguage', 'title', 'homePage', 'video', 'director', 'genres', 'productionCompany', 'productionCompanyCountry', 'productionCountry', 'actors', 'actorsPopularity', 'actorsCharacter', 'releaseDate', 'castMenAmount', 'castWomenAmount']\n",
      "\n",
      "Estas variables se eliminaran porque no brindan información relevante y númerica para realizar agrupamientos.\n",
      "La mayoria de estos son textos los cuales no tienen un sustituto númerico para analisar.\n",
      "\n",
      "Resultado de eliminar las variables que no aportan información:\n",
      "\n",
      "Por regla, debemos de normalizar los datos y limpiar todos los espacios vacios del dataframe\n"
     ]
    },
    {
     "data": {
      "text/plain": [
       "budget                       float64\n",
       "revenue                      float64\n",
       "runtime                      float64\n",
       "popularity                   float64\n",
       "voteAvg                      float64\n",
       "voteCount                    float64\n",
       "genresAmount                 float64\n",
       "productionCoAmount           float64\n",
       "productionCountriesAmount    float64\n",
       "actorsAmount                 float64\n",
       "dtype: object"
      ]
     },
     "execution_count": 54,
     "metadata": {},
     "output_type": "execute_result"
    }
   ],
   "source": [
    "pd.set_option('display.max_columns', None)\n",
    "print(df.dtypes)\n",
    "\n",
    "#Variables a eliminar\n",
    "var_eliminar = [\"id\", \"originalTitle\", \"originalLanguage\", \"title\", \"homePage\", \"video\", \"director\", \"genres\", \"productionCompany\", \"productionCompanyCountry\", \"productionCountry\", \"actors\", \"actorsPopularity\", \"actorsCharacter\", \"releaseDate\", \"castMenAmount\", \"castWomenAmount\"]\n",
    "\n",
    "print(\"\\nObservando los tipos de variables y la definición de cada una, descartaremos las mayoría de variables que no nos brinden \\ninformación númerica, tales como los titulos, nombres, paises, etc.\\n\")\n",
    "\n",
    "#Muestreo de variables a eliminar\n",
    "print(var_eliminar)\n",
    "print(\"\\nEstas variables se eliminaran porque no brindan información relevante y númerica para realizar agrupamientos.\\nLa mayoria de estos son textos los cuales no tienen un sustituto númerico para analisar.\")\n",
    "\n",
    "df2 = df.drop([\"id\", \"originalTitle\", \"originalLanguage\", \"title\", \"homePage\", \"video\", \"director\", \"genres\", \"productionCompany\", \"productionCompanyCountry\", \"productionCountry\", \"actors\", \"actorsPopularity\", \"actorsCharacter\", \"releaseDate\", \"castMenAmount\", \"castWomenAmount\"], axis=1)\n",
    "print(\"\\nResultado de eliminar las variables que no aportan información:\")\n",
    "df2.dtypes\n",
    "\n",
    "print(\"\\nPor regla, debemos de normalizar los datos y limpiar todos los espacios vacios del dataframe\")\n",
    "\n",
    "#No Normlaizada\n",
    "df2 = df2.dropna()\n",
    "\n",
    "#Normalizada\n",
    "df3 = (df2 - df2.min()) / ( df2.max() - df2.min())\n",
    "\n",
    "df3.dtypes"
   ]
  },
  {
   "cell_type": "markdown",
   "id": "db3c38b9",
   "metadata": {},
   "source": [
    "## Analice la tendencia al agrupamiento usando el estadístico de Hopkings y la VAT (Visual Assessment of cluster Tendency). Discuta sus resultados e impresiones. "
   ]
  },
  {
   "cell_type": "code",
   "execution_count": null,
   "id": "70ade3f8",
   "metadata": {},
   "outputs": [],
   "source": []
  },
  {
   "cell_type": "markdown",
   "id": "46f3b737",
   "metadata": {},
   "source": [
    "## Determine cuál es el número de grupos a formar más adecuado para los datos que está trabajando. Haga una gráfica de codo y explique la razón de la elección de la cantidad de clústeres con la que trabajará. "
   ]
  },
  {
   "cell_type": "code",
   "execution_count": null,
   "id": "98b19699",
   "metadata": {},
   "outputs": [],
   "source": []
  },
  {
   "cell_type": "markdown",
   "id": "145be5b3",
   "metadata": {},
   "source": [
    "## Utilice 3 algoritmos existentes para agrupamiento. Compare los resultados generados por cada uno."
   ]
  },
  {
   "cell_type": "code",
   "execution_count": null,
   "id": "b9fba15e",
   "metadata": {},
   "outputs": [],
   "source": []
  },
  {
   "cell_type": "markdown",
   "id": "b9cbf909",
   "metadata": {},
   "source": [
    "## Determine la calidad del agrupamiento hecho por cada algoritmo con el método de la silueta. Discuta los resultados. "
   ]
  },
  {
   "cell_type": "code",
   "execution_count": null,
   "id": "7632997c",
   "metadata": {},
   "outputs": [],
   "source": []
  },
  {
   "cell_type": "markdown",
   "id": "47ab3a2a",
   "metadata": {},
   "source": [
    "## Interprete  los  grupos  basado  en  el  conocimiento  que  tiene  de  los  datos.  Recuerde  investigar  las medidas de tendencia central de las variables continuas y las tablas de frecuencia de las variables categóricas pertenecientes a cada grupo. Identifique hallazgos interesantes debido a las agrupaciones y describa para qué le podría servir. "
   ]
  },
  {
   "cell_type": "code",
   "execution_count": null,
   "id": "2d843d85",
   "metadata": {},
   "outputs": [],
   "source": []
  }
 ],
 "metadata": {
  "kernelspec": {
   "display_name": "Python 3 (ipykernel)",
   "language": "python",
   "name": "python3"
  },
  "language_info": {
   "codemirror_mode": {
    "name": "ipython",
    "version": 3
   },
   "file_extension": ".py",
   "mimetype": "text/x-python",
   "name": "python",
   "nbconvert_exporter": "python",
   "pygments_lexer": "ipython3",
   "version": "3.10.0"
  }
 },
 "nbformat": 4,
 "nbformat_minor": 5
}
