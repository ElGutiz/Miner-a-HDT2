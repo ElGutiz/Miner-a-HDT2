{
 "cells": [
  {
   "cell_type": "markdown",
   "metadata": {},
   "source": [
    "Universidad del Valle de Guatemala <br>\n",
    "28/01/2022 <br>\n",
    "Minería de Datos # 20 \n",
    "\n",
    "# Hoja de Trabajo 2\n",
    "## Clustering\n",
    "\n",
    "**Integrantes:**<br>\n",
    "Walter Saldaña 19897 <br>\n",
    "José Gutierrez 19111 <br>\n",
    "Javier Cotto 19324 <br>"
   ]
  },
  {
   "cell_type": "markdown",
   "metadata": {},
   "source": [
    "Importar modulos"
   ]
  },
  {
   "cell_type": "code",
   "execution_count": 1,
   "metadata": {},
   "outputs": [],
   "source": [
    "import pandas as pd\n",
    "import numpy as np\n",
    "import matplotlib.pyplot as plt\n",
    "from sklearn import datasets\n",
    "import seaborn as sb\n",
    "import sklearn.cluster as cluster\n",
    "import sklearn.metrics as metrics\n",
    "import sklearn.preprocessing\n",
    "import scipy.cluster.hierarchy as sch\n",
    "import skfuzzy as fuzz\n",
    "import pylab\n",
    "import sklearn.mixture as mixture\n",
    "import pyclustertend \n",
    "import random\n",
    "\n",
    "%matplotlib inline\n",
    "from mpl_toolkits.mplot3d import Axes3D\n",
    "plt.rcParams['figure.figsize'] = (16, 9)\n",
    "plt.style.use('ggplot')"
   ]
  },
  {
   "cell_type": "markdown",
   "metadata": {},
   "source": [
    "Cargar la base de datos a pandas"
   ]
  },
  {
   "cell_type": "code",
   "execution_count": 2,
   "metadata": {},
   "outputs": [
    {
     "data": {
      "text/html": [
       "<div>\n",
       "<style scoped>\n",
       "    .dataframe tbody tr th:only-of-type {\n",
       "        vertical-align: middle;\n",
       "    }\n",
       "\n",
       "    .dataframe tbody tr th {\n",
       "        vertical-align: top;\n",
       "    }\n",
       "\n",
       "    .dataframe thead th {\n",
       "        text-align: right;\n",
       "    }\n",
       "</style>\n",
       "<table border=\"1\" class=\"dataframe\">\n",
       "  <thead>\n",
       "    <tr style=\"text-align: right;\">\n",
       "      <th></th>\n",
       "      <th>id</th>\n",
       "      <th>budget</th>\n",
       "      <th>genres</th>\n",
       "      <th>homePage</th>\n",
       "      <th>productionCompany</th>\n",
       "      <th>productionCompanyCountry</th>\n",
       "      <th>productionCountry</th>\n",
       "      <th>revenue</th>\n",
       "      <th>runtime</th>\n",
       "      <th>video</th>\n",
       "      <th>...</th>\n",
       "      <th>popularity</th>\n",
       "      <th>releaseDate</th>\n",
       "      <th>voteAvg</th>\n",
       "      <th>voteCount</th>\n",
       "      <th>genresAmount</th>\n",
       "      <th>productionCoAmount</th>\n",
       "      <th>productionCountriesAmount</th>\n",
       "      <th>actorsAmount</th>\n",
       "      <th>castWomenAmount</th>\n",
       "      <th>castMenAmount</th>\n",
       "    </tr>\n",
       "  </thead>\n",
       "  <tbody>\n",
       "    <tr>\n",
       "      <th>0</th>\n",
       "      <td>5</td>\n",
       "      <td>4000000</td>\n",
       "      <td>Crime|Comedy</td>\n",
       "      <td>https://www.miramax.com/movie/four-rooms/</td>\n",
       "      <td>Miramax|A Band Apart</td>\n",
       "      <td>US|US</td>\n",
       "      <td>United States of America</td>\n",
       "      <td>4257354.0</td>\n",
       "      <td>98</td>\n",
       "      <td>False</td>\n",
       "      <td>...</td>\n",
       "      <td>20.880</td>\n",
       "      <td>1995-12-09</td>\n",
       "      <td>5.7</td>\n",
       "      <td>2077</td>\n",
       "      <td>2</td>\n",
       "      <td>2</td>\n",
       "      <td>1</td>\n",
       "      <td>25</td>\n",
       "      <td>15</td>\n",
       "      <td>9</td>\n",
       "    </tr>\n",
       "    <tr>\n",
       "      <th>1</th>\n",
       "      <td>6</td>\n",
       "      <td>21000000</td>\n",
       "      <td>Action|Thriller|Crime</td>\n",
       "      <td>NaN</td>\n",
       "      <td>Universal Pictures|Largo Entertainment|JVC</td>\n",
       "      <td>US|US|JP</td>\n",
       "      <td>Japan|United States of America</td>\n",
       "      <td>12136938.0</td>\n",
       "      <td>110</td>\n",
       "      <td>False</td>\n",
       "      <td>...</td>\n",
       "      <td>9.596</td>\n",
       "      <td>1993-10-15</td>\n",
       "      <td>6.5</td>\n",
       "      <td>223</td>\n",
       "      <td>3</td>\n",
       "      <td>3</td>\n",
       "      <td>2</td>\n",
       "      <td>15</td>\n",
       "      <td>3</td>\n",
       "      <td>9</td>\n",
       "    </tr>\n",
       "    <tr>\n",
       "      <th>2</th>\n",
       "      <td>11</td>\n",
       "      <td>11000000</td>\n",
       "      <td>Adventure|Action|Science Fiction</td>\n",
       "      <td>http://www.starwars.com/films/star-wars-episod...</td>\n",
       "      <td>Lucasfilm|20th Century Fox</td>\n",
       "      <td>US|US</td>\n",
       "      <td>United States of America</td>\n",
       "      <td>775398007.0</td>\n",
       "      <td>121</td>\n",
       "      <td>NaN</td>\n",
       "      <td>...</td>\n",
       "      <td>100.003</td>\n",
       "      <td>1977-05-25</td>\n",
       "      <td>8.2</td>\n",
       "      <td>16598</td>\n",
       "      <td>3</td>\n",
       "      <td>2</td>\n",
       "      <td>1</td>\n",
       "      <td>105</td>\n",
       "      <td>5</td>\n",
       "      <td>62</td>\n",
       "    </tr>\n",
       "    <tr>\n",
       "      <th>3</th>\n",
       "      <td>12</td>\n",
       "      <td>94000000</td>\n",
       "      <td>Animation|Family</td>\n",
       "      <td>http://movies.disney.com/finding-nemo</td>\n",
       "      <td>Pixar</td>\n",
       "      <td>US</td>\n",
       "      <td>United States of America</td>\n",
       "      <td>940335536.0</td>\n",
       "      <td>100</td>\n",
       "      <td>NaN</td>\n",
       "      <td>...</td>\n",
       "      <td>134.435</td>\n",
       "      <td>2003-05-30</td>\n",
       "      <td>7.8</td>\n",
       "      <td>15928</td>\n",
       "      <td>2</td>\n",
       "      <td>1</td>\n",
       "      <td>1</td>\n",
       "      <td>24</td>\n",
       "      <td>5</td>\n",
       "      <td>18</td>\n",
       "    </tr>\n",
       "    <tr>\n",
       "      <th>4</th>\n",
       "      <td>13</td>\n",
       "      <td>55000000</td>\n",
       "      <td>Comedy|Drama|Romance</td>\n",
       "      <td>NaN</td>\n",
       "      <td>Paramount|The Steve Tisch Company</td>\n",
       "      <td>US|</td>\n",
       "      <td>United States of America</td>\n",
       "      <td>677387716.0</td>\n",
       "      <td>142</td>\n",
       "      <td>False</td>\n",
       "      <td>...</td>\n",
       "      <td>58.751</td>\n",
       "      <td>1994-07-06</td>\n",
       "      <td>8.5</td>\n",
       "      <td>22045</td>\n",
       "      <td>3</td>\n",
       "      <td>2</td>\n",
       "      <td>1</td>\n",
       "      <td>76</td>\n",
       "      <td>18</td>\n",
       "      <td>48</td>\n",
       "    </tr>\n",
       "  </tbody>\n",
       "</table>\n",
       "<p>5 rows × 27 columns</p>\n",
       "</div>"
      ],
      "text/plain": [
       "   id    budget                            genres  \\\n",
       "0   5   4000000                      Crime|Comedy   \n",
       "1   6  21000000             Action|Thriller|Crime   \n",
       "2  11  11000000  Adventure|Action|Science Fiction   \n",
       "3  12  94000000                  Animation|Family   \n",
       "4  13  55000000              Comedy|Drama|Romance   \n",
       "\n",
       "                                            homePage  \\\n",
       "0          https://www.miramax.com/movie/four-rooms/   \n",
       "1                                                NaN   \n",
       "2  http://www.starwars.com/films/star-wars-episod...   \n",
       "3              http://movies.disney.com/finding-nemo   \n",
       "4                                                NaN   \n",
       "\n",
       "                            productionCompany productionCompanyCountry  \\\n",
       "0                        Miramax|A Band Apart                    US|US   \n",
       "1  Universal Pictures|Largo Entertainment|JVC                 US|US|JP   \n",
       "2                  Lucasfilm|20th Century Fox                    US|US   \n",
       "3                                       Pixar                       US   \n",
       "4           Paramount|The Steve Tisch Company                      US|   \n",
       "\n",
       "                productionCountry      revenue  runtime  video  ...  \\\n",
       "0        United States of America    4257354.0       98  False  ...   \n",
       "1  Japan|United States of America   12136938.0      110  False  ...   \n",
       "2        United States of America  775398007.0      121    NaN  ...   \n",
       "3        United States of America  940335536.0      100    NaN  ...   \n",
       "4        United States of America  677387716.0      142  False  ...   \n",
       "\n",
       "  popularity releaseDate voteAvg voteCount genresAmount productionCoAmount  \\\n",
       "0     20.880  1995-12-09     5.7      2077            2                  2   \n",
       "1      9.596  1993-10-15     6.5       223            3                  3   \n",
       "2    100.003  1977-05-25     8.2     16598            3                  2   \n",
       "3    134.435  2003-05-30     7.8     15928            2                  1   \n",
       "4     58.751  1994-07-06     8.5     22045            3                  2   \n",
       "\n",
       "  productionCountriesAmount  actorsAmount castWomenAmount  castMenAmount  \n",
       "0                         1            25              15              9  \n",
       "1                         2            15               3              9  \n",
       "2                         1           105               5             62  \n",
       "3                         1            24               5             18  \n",
       "4                         1            76              18             48  \n",
       "\n",
       "[5 rows x 27 columns]"
      ]
     },
     "execution_count": 2,
     "metadata": {},
     "output_type": "execute_result"
    }
   ],
   "source": [
    "datos = pd.read_csv('movies.csv', encoding='unicode_escape')\n",
    "datos.head()"
   ]
  },
  {
   "cell_type": "markdown",
   "metadata": {},
   "source": [
    "## 1) Preprocesamiento de datos\n",
    "Remover variables cualitativas que no aportan, ya que no son categóricas, y sus frecuencias no pueden ser clasificadas."
   ]
  },
  {
   "cell_type": "code",
   "execution_count": 3,
   "metadata": {},
   "outputs": [
    {
     "data": {
      "text/html": [
       "<div>\n",
       "<style scoped>\n",
       "    .dataframe tbody tr th:only-of-type {\n",
       "        vertical-align: middle;\n",
       "    }\n",
       "\n",
       "    .dataframe tbody tr th {\n",
       "        vertical-align: top;\n",
       "    }\n",
       "\n",
       "    .dataframe thead th {\n",
       "        text-align: right;\n",
       "    }\n",
       "</style>\n",
       "<table border=\"1\" class=\"dataframe\">\n",
       "  <thead>\n",
       "    <tr style=\"text-align: right;\">\n",
       "      <th></th>\n",
       "      <th>budget</th>\n",
       "      <th>revenue</th>\n",
       "      <th>runtime</th>\n",
       "      <th>popularity</th>\n",
       "      <th>voteAvg</th>\n",
       "      <th>voteCount</th>\n",
       "    </tr>\n",
       "  </thead>\n",
       "  <tbody>\n",
       "    <tr>\n",
       "      <th>0</th>\n",
       "      <td>4000000</td>\n",
       "      <td>4257354.0</td>\n",
       "      <td>98</td>\n",
       "      <td>20.880</td>\n",
       "      <td>5.7</td>\n",
       "      <td>2077</td>\n",
       "    </tr>\n",
       "    <tr>\n",
       "      <th>1</th>\n",
       "      <td>21000000</td>\n",
       "      <td>12136938.0</td>\n",
       "      <td>110</td>\n",
       "      <td>9.596</td>\n",
       "      <td>6.5</td>\n",
       "      <td>223</td>\n",
       "    </tr>\n",
       "    <tr>\n",
       "      <th>2</th>\n",
       "      <td>11000000</td>\n",
       "      <td>775398007.0</td>\n",
       "      <td>121</td>\n",
       "      <td>100.003</td>\n",
       "      <td>8.2</td>\n",
       "      <td>16598</td>\n",
       "    </tr>\n",
       "    <tr>\n",
       "      <th>3</th>\n",
       "      <td>94000000</td>\n",
       "      <td>940335536.0</td>\n",
       "      <td>100</td>\n",
       "      <td>134.435</td>\n",
       "      <td>7.8</td>\n",
       "      <td>15928</td>\n",
       "    </tr>\n",
       "    <tr>\n",
       "      <th>4</th>\n",
       "      <td>55000000</td>\n",
       "      <td>677387716.0</td>\n",
       "      <td>142</td>\n",
       "      <td>58.751</td>\n",
       "      <td>8.5</td>\n",
       "      <td>22045</td>\n",
       "    </tr>\n",
       "  </tbody>\n",
       "</table>\n",
       "</div>"
      ],
      "text/plain": [
       "     budget      revenue  runtime  popularity  voteAvg  voteCount\n",
       "0   4000000    4257354.0       98      20.880      5.7       2077\n",
       "1  21000000   12136938.0      110       9.596      6.5        223\n",
       "2  11000000  775398007.0      121     100.003      8.2      16598\n",
       "3  94000000  940335536.0      100     134.435      7.8      15928\n",
       "4  55000000  677387716.0      142      58.751      8.5      22045"
      ]
     },
     "execution_count": 3,
     "metadata": {},
     "output_type": "execute_result"
    }
   ],
   "source": [
    "datos = datos.drop([\"id\", \"originalTitle\", \"originalLanguage\", \"title\", \"homePage\", \"video\", \"director\", \"genres\", \"productionCompany\", \"productionCompanyCountry\", \"productionCountry\", \"actors\", \"actorsPopularity\", \"actorsCharacter\", \"releaseDate\", \"castMenAmount\", \"castWomenAmount\", \"productionCoAmount\", \"productionCountriesAmount\", \"actorsAmount\", \"genresAmount\"], axis=1)\n",
    "datos.head()"
   ]
  },
  {
   "cell_type": "markdown",
   "metadata": {},
   "source": [
    "### Resumen estadístico de las variables"
   ]
  },
  {
   "cell_type": "code",
   "execution_count": 4,
   "metadata": {},
   "outputs": [
    {
     "data": {
      "text/html": [
       "<div>\n",
       "<style scoped>\n",
       "    .dataframe tbody tr th:only-of-type {\n",
       "        vertical-align: middle;\n",
       "    }\n",
       "\n",
       "    .dataframe tbody tr th {\n",
       "        vertical-align: top;\n",
       "    }\n",
       "\n",
       "    .dataframe thead th {\n",
       "        text-align: right;\n",
       "    }\n",
       "</style>\n",
       "<table border=\"1\" class=\"dataframe\">\n",
       "  <thead>\n",
       "    <tr style=\"text-align: right;\">\n",
       "      <th></th>\n",
       "      <th>budget</th>\n",
       "      <th>revenue</th>\n",
       "      <th>runtime</th>\n",
       "      <th>popularity</th>\n",
       "      <th>voteAvg</th>\n",
       "      <th>voteCount</th>\n",
       "    </tr>\n",
       "  </thead>\n",
       "  <tbody>\n",
       "    <tr>\n",
       "      <th>count</th>\n",
       "      <td>1.000000e+04</td>\n",
       "      <td>1.000000e+04</td>\n",
       "      <td>10000.000000</td>\n",
       "      <td>10000.000000</td>\n",
       "      <td>10000.000000</td>\n",
       "      <td>10000.000000</td>\n",
       "    </tr>\n",
       "    <tr>\n",
       "      <th>mean</th>\n",
       "      <td>1.855163e+07</td>\n",
       "      <td>5.673793e+07</td>\n",
       "      <td>100.268100</td>\n",
       "      <td>51.393907</td>\n",
       "      <td>6.483490</td>\n",
       "      <td>1342.381800</td>\n",
       "    </tr>\n",
       "    <tr>\n",
       "      <th>std</th>\n",
       "      <td>3.662669e+07</td>\n",
       "      <td>1.495854e+08</td>\n",
       "      <td>27.777829</td>\n",
       "      <td>216.729552</td>\n",
       "      <td>0.984274</td>\n",
       "      <td>2564.196637</td>\n",
       "    </tr>\n",
       "    <tr>\n",
       "      <th>min</th>\n",
       "      <td>0.000000e+00</td>\n",
       "      <td>0.000000e+00</td>\n",
       "      <td>0.000000</td>\n",
       "      <td>4.258000</td>\n",
       "      <td>1.300000</td>\n",
       "      <td>1.000000</td>\n",
       "    </tr>\n",
       "    <tr>\n",
       "      <th>25%</th>\n",
       "      <td>0.000000e+00</td>\n",
       "      <td>0.000000e+00</td>\n",
       "      <td>90.000000</td>\n",
       "      <td>14.577750</td>\n",
       "      <td>5.900000</td>\n",
       "      <td>120.000000</td>\n",
       "    </tr>\n",
       "    <tr>\n",
       "      <th>50%</th>\n",
       "      <td>5.000000e+05</td>\n",
       "      <td>1.631245e+05</td>\n",
       "      <td>100.000000</td>\n",
       "      <td>21.905500</td>\n",
       "      <td>6.500000</td>\n",
       "      <td>415.000000</td>\n",
       "    </tr>\n",
       "    <tr>\n",
       "      <th>75%</th>\n",
       "      <td>2.000000e+07</td>\n",
       "      <td>4.479661e+07</td>\n",
       "      <td>113.000000</td>\n",
       "      <td>40.654000</td>\n",
       "      <td>7.200000</td>\n",
       "      <td>1316.000000</td>\n",
       "    </tr>\n",
       "    <tr>\n",
       "      <th>max</th>\n",
       "      <td>3.800000e+08</td>\n",
       "      <td>2.847246e+09</td>\n",
       "      <td>750.000000</td>\n",
       "      <td>11474.647000</td>\n",
       "      <td>10.000000</td>\n",
       "      <td>30788.000000</td>\n",
       "    </tr>\n",
       "  </tbody>\n",
       "</table>\n",
       "</div>"
      ],
      "text/plain": [
       "             budget       revenue       runtime    popularity       voteAvg  \\\n",
       "count  1.000000e+04  1.000000e+04  10000.000000  10000.000000  10000.000000   \n",
       "mean   1.855163e+07  5.673793e+07    100.268100     51.393907      6.483490   \n",
       "std    3.662669e+07  1.495854e+08     27.777829    216.729552      0.984274   \n",
       "min    0.000000e+00  0.000000e+00      0.000000      4.258000      1.300000   \n",
       "25%    0.000000e+00  0.000000e+00     90.000000     14.577750      5.900000   \n",
       "50%    5.000000e+05  1.631245e+05    100.000000     21.905500      6.500000   \n",
       "75%    2.000000e+07  4.479661e+07    113.000000     40.654000      7.200000   \n",
       "max    3.800000e+08  2.847246e+09    750.000000  11474.647000     10.000000   \n",
       "\n",
       "          voteCount  \n",
       "count  10000.000000  \n",
       "mean    1342.381800  \n",
       "std     2564.196637  \n",
       "min        1.000000  \n",
       "25%      120.000000  \n",
       "50%      415.000000  \n",
       "75%     1316.000000  \n",
       "max    30788.000000  "
      ]
     },
     "execution_count": 4,
     "metadata": {},
     "output_type": "execute_result"
    }
   ],
   "source": [
    "datos.describe()"
   ]
  },
  {
   "cell_type": "markdown",
   "metadata": {},
   "source": [
    "### Muestra representativa de la población"
   ]
  },
  {
   "cell_type": "code",
   "execution_count": 5,
   "metadata": {},
   "outputs": [
    {
     "data": {
      "text/html": [
       "<div>\n",
       "<style scoped>\n",
       "    .dataframe tbody tr th:only-of-type {\n",
       "        vertical-align: middle;\n",
       "    }\n",
       "\n",
       "    .dataframe tbody tr th {\n",
       "        vertical-align: top;\n",
       "    }\n",
       "\n",
       "    .dataframe thead th {\n",
       "        text-align: right;\n",
       "    }\n",
       "</style>\n",
       "<table border=\"1\" class=\"dataframe\">\n",
       "  <thead>\n",
       "    <tr style=\"text-align: right;\">\n",
       "      <th></th>\n",
       "      <th>budget</th>\n",
       "      <th>revenue</th>\n",
       "      <th>runtime</th>\n",
       "      <th>popularity</th>\n",
       "      <th>voteAvg</th>\n",
       "      <th>voteCount</th>\n",
       "      <th>combined_weight</th>\n",
       "    </tr>\n",
       "  </thead>\n",
       "  <tbody>\n",
       "    <tr>\n",
       "      <th>count</th>\n",
       "      <td>1.500000e+02</td>\n",
       "      <td>1.500000e+02</td>\n",
       "      <td>150.000000</td>\n",
       "      <td>150.000000</td>\n",
       "      <td>150.000000</td>\n",
       "      <td>150.000000</td>\n",
       "      <td>1.500000e+02</td>\n",
       "    </tr>\n",
       "    <tr>\n",
       "      <th>mean</th>\n",
       "      <td>2.404661e+07</td>\n",
       "      <td>8.698388e+07</td>\n",
       "      <td>101.153333</td>\n",
       "      <td>61.842087</td>\n",
       "      <td>6.464667</td>\n",
       "      <td>1468.986667</td>\n",
       "      <td>1.000000e-04</td>\n",
       "    </tr>\n",
       "    <tr>\n",
       "      <th>std</th>\n",
       "      <td>5.251672e+07</td>\n",
       "      <td>2.675025e+08</td>\n",
       "      <td>24.329322</td>\n",
       "      <td>105.607880</td>\n",
       "      <td>0.890226</td>\n",
       "      <td>2641.123820</td>\n",
       "      <td>2.719586e-20</td>\n",
       "    </tr>\n",
       "    <tr>\n",
       "      <th>min</th>\n",
       "      <td>0.000000e+00</td>\n",
       "      <td>0.000000e+00</td>\n",
       "      <td>12.000000</td>\n",
       "      <td>8.540000</td>\n",
       "      <td>4.000000</td>\n",
       "      <td>6.000000</td>\n",
       "      <td>1.000000e-04</td>\n",
       "    </tr>\n",
       "    <tr>\n",
       "      <th>25%</th>\n",
       "      <td>0.000000e+00</td>\n",
       "      <td>0.000000e+00</td>\n",
       "      <td>91.250000</td>\n",
       "      <td>15.787000</td>\n",
       "      <td>5.900000</td>\n",
       "      <td>124.000000</td>\n",
       "      <td>1.000000e-04</td>\n",
       "    </tr>\n",
       "    <tr>\n",
       "      <th>50%</th>\n",
       "      <td>0.000000e+00</td>\n",
       "      <td>1.531900e+04</td>\n",
       "      <td>97.000000</td>\n",
       "      <td>25.467000</td>\n",
       "      <td>6.400000</td>\n",
       "      <td>449.500000</td>\n",
       "      <td>1.000000e-04</td>\n",
       "    </tr>\n",
       "    <tr>\n",
       "      <th>75%</th>\n",
       "      <td>1.775000e+07</td>\n",
       "      <td>5.685725e+07</td>\n",
       "      <td>110.750000</td>\n",
       "      <td>55.493250</td>\n",
       "      <td>7.100000</td>\n",
       "      <td>1660.500000</td>\n",
       "      <td>1.000000e-04</td>\n",
       "    </tr>\n",
       "    <tr>\n",
       "      <th>max</th>\n",
       "      <td>3.560000e+08</td>\n",
       "      <td>2.797801e+09</td>\n",
       "      <td>242.000000</td>\n",
       "      <td>705.492000</td>\n",
       "      <td>8.600000</td>\n",
       "      <td>20186.000000</td>\n",
       "      <td>1.000000e-04</td>\n",
       "    </tr>\n",
       "  </tbody>\n",
       "</table>\n",
       "</div>"
      ],
      "text/plain": [
       "             budget       revenue     runtime  popularity     voteAvg  \\\n",
       "count  1.500000e+02  1.500000e+02  150.000000  150.000000  150.000000   \n",
       "mean   2.404661e+07  8.698388e+07  101.153333   61.842087    6.464667   \n",
       "std    5.251672e+07  2.675025e+08   24.329322  105.607880    0.890226   \n",
       "min    0.000000e+00  0.000000e+00   12.000000    8.540000    4.000000   \n",
       "25%    0.000000e+00  0.000000e+00   91.250000   15.787000    5.900000   \n",
       "50%    0.000000e+00  1.531900e+04   97.000000   25.467000    6.400000   \n",
       "75%    1.775000e+07  5.685725e+07  110.750000   55.493250    7.100000   \n",
       "max    3.560000e+08  2.797801e+09  242.000000  705.492000    8.600000   \n",
       "\n",
       "          voteCount  combined_weight  \n",
       "count    150.000000     1.500000e+02  \n",
       "mean    1468.986667     1.000000e-04  \n",
       "std     2641.123820     2.719586e-20  \n",
       "min        6.000000     1.000000e-04  \n",
       "25%      124.000000     1.000000e-04  \n",
       "50%      449.500000     1.000000e-04  \n",
       "75%     1660.500000     1.000000e-04  \n",
       "max    20186.000000     1.000000e-04  "
      ]
     },
     "execution_count": 5,
     "metadata": {},
     "output_type": "execute_result"
    }
   ],
   "source": [
    "datos[\"combined\"] = list(\n",
    "    zip(\n",
    "        datos[\"budget\"],\n",
    "        datos[\"revenue\"],\n",
    "        datos[\"runtime\"],\n",
    "        datos[\"popularity\"],\n",
    "        datos[\"voteAvg\"],\n",
    "        datos[\"voteCount\"]\n",
    "    )\n",
    ")\n",
    "\n",
    "combined_weight = datos['combined'].value_counts(normalize=True)\n",
    "\n",
    "datos['combined_weight'] = datos['combined'].apply(lambda x: combined_weight[x])\n",
    "\n",
    "datos = datos.sample(150, weights=datos['combined_weight'])\n",
    "\n",
    "datos.describe()"
   ]
  },
  {
   "cell_type": "markdown",
   "metadata": {},
   "source": [
    "### Análisis de la columna BUDGET"
   ]
  },
  {
   "cell_type": "code",
   "execution_count": 6,
   "metadata": {
    "scrolled": false
   },
   "outputs": [
    {
     "data": {
      "image/png": "[encoded data removed]",
      "text/plain": [
       "<Figure size 1152x648 with 1 Axes>"
      ]
     },
     "metadata": {},
     "output_type": "display_data"
    }
   ],
   "source": [
    "plt.boxplot(datos.budget)\n",
    "plt.show()"
   ]
  },
  {
   "cell_type": "markdown",
   "metadata": {},
   "source": [
    "Eliminar datos atípicos"
   ]
  },
  {
   "cell_type": "code",
   "execution_count": 7,
   "metadata": {},
   "outputs": [],
   "source": [
    "indexes = datos[datos['budget'] < 5e5].index\n",
    "datos.drop(indexes, inplace=True)\n",
    "\n",
    "Q1 = datos.budget.quantile(0.25)\n",
    "Q3 = datos.budget.quantile(0.75)\n",
    "IQR = Q3 - Q1\n",
    "\n",
    "indexes = datos[datos['budget'] < (Q1 - 1.5 * IQR)].index\n",
    "datos.drop(indexes, inplace=True)\n",
    "\n",
    "indexes = datos[datos['budget'] > (Q3 + 1.5 * IQR)].index\n",
    "datos.drop(indexes, inplace=True)"
   ]
  },
  {
   "cell_type": "code",
   "execution_count": 8,
   "metadata": {
    "scrolled": true
   },
   "outputs": [
    {
     "data": {
      "image/png": "[encoded data removed]",
      "text/plain": [
       "<Figure size 1152x648 with 1 Axes>"
      ]
     },
     "metadata": {},
     "output_type": "display_data"
    }
   ],
   "source": [
    "plt.boxplot(datos.budget)\n",
    "plt.show()"
   ]
  },
  {
   "cell_type": "markdown",
   "metadata": {},
   "source": [
    "### Análisis de la columna REVENUE"
   ]
  },
  {
   "cell_type": "code",
   "execution_count": 9,
   "metadata": {
    "scrolled": false
   },
   "outputs": [
    {
     "data": {
      "image/png": "[encoded data removed]",
      "text/plain": [
       "<Figure size 1152x648 with 1 Axes>"
      ]
     },
     "metadata": {},
     "output_type": "display_data"
    }
   ],
   "source": [
    "plt.boxplot(datos.revenue)\n",
    "plt.show()"
   ]
  },
  {
   "cell_type": "markdown",
   "metadata": {},
   "source": [
    "Eliminar datos atípicos"
   ]
  },
  {
   "cell_type": "code",
   "execution_count": 10,
   "metadata": {},
   "outputs": [],
   "source": [
    "Q1 = datos.budget.quantile(0.25)\n",
    "Q3 = datos.budget.quantile(0.75)\n",
    "IQR = Q3 - Q1\n",
    "\n",
    "indexes = datos[datos['budget'] < (Q1 - 1.5 * IQR)].index\n",
    "datos.drop(indexes, inplace=True)\n",
    "\n",
    "indexes = datos[datos['budget'] > (Q3 + 1.5 * IQR)].index\n",
    "datos.drop(indexes, inplace=True)"
   ]
  },
  {
   "cell_type": "code",
   "execution_count": 11,
   "metadata": {
    "scrolled": true
   },
   "outputs": [
    {
     "data": {
      "image/png": "[encoded data removed]",
      "text/plain": [
       "<Figure size 1152x648 with 1 Axes>"
      ]
     },
     "metadata": {},
     "output_type": "display_data"
    }
   ],
   "source": [
    "plt.boxplot(datos.budget)\n",
    "plt.show()"
   ]
  },
  {
   "cell_type": "markdown",
   "metadata": {},
   "source": [
    "### Análisis de la columna RUNTIME"
   ]
  },
  {
   "cell_type": "code",
   "execution_count": 12,
   "metadata": {},
   "outputs": [
    {
     "data": {
      "image/png": "[encoded data removed]",
      "text/plain": [
       "<Figure size 1152x648 with 1 Axes>"
      ]
     },
     "metadata": {},
     "output_type": "display_data"
    }
   ],
   "source": [
    "plt.boxplot(datos.runtime)\n",
    "plt.show()"
   ]
  },
  {
   "cell_type": "markdown",
   "metadata": {},
   "source": [
    "Eliminar datos atípicos"
   ]
  },
  {
   "cell_type": "code",
   "execution_count": 13,
   "metadata": {},
   "outputs": [],
   "source": [
    "Q1 = datos.runtime.quantile(0.25)\n",
    "Q3 = datos.runtime.quantile(0.75)\n",
    "IQR = Q3 - Q1\n",
    "\n",
    "indexes = datos[datos['runtime'] < (Q1 - 1.5 * IQR)].index\n",
    "datos.drop(indexes, inplace=True)\n",
    "\n",
    "indexes = datos[datos['runtime'] > (Q3 + 1.5 * IQR)].index\n",
    "datos.drop(indexes, inplace=True)"
   ]
  },
  {
   "cell_type": "code",
   "execution_count": 14,
   "metadata": {},
   "outputs": [
    {
     "data": {
      "image/png": "[encoded data removed]",
      "text/plain": [
       "<Figure size 1152x648 with 1 Axes>"
      ]
     },
     "metadata": {},
     "output_type": "display_data"
    }
   ],
   "source": [
    "plt.boxplot(datos.runtime)\n",
    "plt.show()"
   ]
  },
  {
   "cell_type": "markdown",
   "metadata": {},
   "source": [
    "### Análisis de la columna POPULARITY"
   ]
  },
  {
   "cell_type": "code",
   "execution_count": 15,
   "metadata": {},
   "outputs": [
    {
     "data": {
      "image/png": "[encoded data removed]",
      "text/plain": [
       "<Figure size 1152x648 with 1 Axes>"
      ]
     },
     "metadata": {},
     "output_type": "display_data"
    }
   ],
   "source": [
    "plt.boxplot(datos.popularity)\n",
    "plt.show()"
   ]
  },
  {
   "cell_type": "markdown",
   "metadata": {},
   "source": [
    "Eliminar datos atípicos"
   ]
  },
  {
   "cell_type": "code",
   "execution_count": 16,
   "metadata": {},
   "outputs": [],
   "source": [
    "Q1 = datos.popularity.quantile(0.25)\n",
    "Q3 = datos.popularity.quantile(0.75)\n",
    "IQR = Q3 - Q1\n",
    "\n",
    "indexes = datos[datos['popularity'] < (Q1 - 1.5 * IQR)].index\n",
    "datos.drop(indexes, inplace=True)\n",
    "\n",
    "indexes = datos[datos['popularity'] > (Q3 + 1.5 * IQR)].index\n",
    "datos.drop(indexes, inplace=True)"
   ]
  },
  {
   "cell_type": "code",
   "execution_count": 17,
   "metadata": {},
   "outputs": [
    {
     "data": {
      "image/png": "[encoded data removed]",
      "text/plain": [
       "<Figure size 1152x648 with 1 Axes>"
      ]
     },
     "metadata": {},
     "output_type": "display_data"
    }
   ],
   "source": [
    "plt.boxplot(datos.popularity)\n",
    "plt.show()"
   ]
  },
  {
   "cell_type": "markdown",
   "metadata": {},
   "source": [
    "### Análisis de la columna VOTEAVG"
   ]
  },
  {
   "cell_type": "code",
   "execution_count": 18,
   "metadata": {},
   "outputs": [
    {
     "data": {
      "image/png": "[encoded data removed]",
      "text/plain": [
       "<Figure size 1152x648 with 1 Axes>"
      ]
     },
     "metadata": {},
     "output_type": "display_data"
    }
   ],
   "source": [
    "plt.boxplot(datos.voteAvg)\n",
    "plt.show()"
   ]
  },
  {
   "cell_type": "markdown",
   "metadata": {},
   "source": [
    "Eliminar datos atípicos"
   ]
  },
  {
   "cell_type": "code",
   "execution_count": 19,
   "metadata": {},
   "outputs": [],
   "source": [
    "Q1 = datos.voteAvg.quantile(0.25)\n",
    "Q3 = datos.voteAvg.quantile(0.75)\n",
    "IQR = Q3 - Q1\n",
    "\n",
    "indexes = datos[datos['voteAvg'] < (Q1 - 1.5 * IQR)].index\n",
    "datos.drop(indexes, inplace=True)\n",
    "\n",
    "indexes = datos[datos['voteAvg'] > (Q3 + 1.5 * IQR)].index\n",
    "datos.drop(indexes, inplace=True)"
   ]
  },
  {
   "cell_type": "code",
   "execution_count": 20,
   "metadata": {},
   "outputs": [
    {
     "data": {
      "image/png": "[encoded data removed]",
      "text/plain": [
       "<Figure size 1152x648 with 1 Axes>"
      ]
     },
     "metadata": {},
     "output_type": "display_data"
    }
   ],
   "source": [
    "plt.boxplot(datos.voteAvg)\n",
    "plt.show()"
   ]
  },
  {
   "cell_type": "markdown",
   "metadata": {},
   "source": [
    "### Análisis de la columna VOTECOUNT"
   ]
  },
  {
   "cell_type": "code",
   "execution_count": 21,
   "metadata": {},
   "outputs": [
    {
     "data": {
      "image/png": "[encoded data removed]",
      "text/plain": [
       "<Figure size 1152x648 with 1 Axes>"
      ]
     },
     "metadata": {},
     "output_type": "display_data"
    }
   ],
   "source": [
    "plt.boxplot(datos.voteCount)\n",
    "plt.show()"
   ]
  },
  {
   "cell_type": "markdown",
   "metadata": {},
   "source": [
    "Eliminar datos atípicos"
   ]
  },
  {
   "cell_type": "code",
   "execution_count": 22,
   "metadata": {},
   "outputs": [],
   "source": [
    "Q1 = datos.voteCount.quantile(0.25)\n",
    "Q3 = datos.voteCount.quantile(0.75)\n",
    "IQR = Q3 - Q1\n",
    "\n",
    "indexes = datos[datos['voteCount'] < (Q1 - 1.5 * IQR)].index\n",
    "datos.drop(indexes, inplace=True)\n",
    "\n",
    "indexes = datos[datos['voteCount'] > (Q3 + 1.5 * IQR)].index\n",
    "datos.drop(indexes, inplace=True)"
   ]
  },
  {
   "cell_type": "code",
   "execution_count": 23,
   "metadata": {},
   "outputs": [
    {
     "data": {
      "image/png": "[encoded data removed]",
      "text/plain": [
       "<Figure size 1152x648 with 1 Axes>"
      ]
     },
     "metadata": {},
     "output_type": "display_data"
    }
   ],
   "source": [
    "plt.boxplot(datos.voteCount)\n",
    "plt.show()"
   ]
  },
  {
   "cell_type": "markdown",
   "metadata": {},
   "source": [
    "### Correlación de las variables"
   ]
  },
  {
   "cell_type": "code",
   "execution_count": 24,
   "metadata": {},
   "outputs": [
    {
     "data": {
      "text/plain": [
       "<AxesSubplot:>"
      ]
     },
     "execution_count": 24,
     "metadata": {},
     "output_type": "execute_result"
    },
    {
     "data": {
      "image/png": "[encoded data removed]",
      "text/plain": [
       "<Figure size 1152x648 with 2 Axes>"
      ]
     },
     "metadata": {},
     "output_type": "display_data"
    }
   ],
   "source": [
    "correlacion = datos.corr()\n",
    "fig, axis = plt.subplots()\n",
    "sb.heatmap(correlacion, xticklabels=correlacion.columns, yticklabels=correlacion.columns, annot=True, ax=axis)"
   ]
  },
  {
   "cell_type": "markdown",
   "metadata": {},
   "source": [
    "#### Correlaciones más relevantes\n",
    "\n",
    "- **Budget:** revenue\n",
    "- **Revenue:** budget, voteCount\n",
    "- **Runtime:** voteAvg\n",
    "- **Popularity:** voteCount\n",
    "- **VoteAvg:** runtime, voteCount\n",
    "- **VoteCount:** revenue, popularity, voteAvg"
   ]
  },
  {
   "cell_type": "markdown",
   "metadata": {},
   "source": [
    "## 2) Tendencia al agrupamiento"
   ]
  },
  {
   "cell_type": "markdown",
   "metadata": {},
   "source": [
    "### Evaluación de posibles agrupamientos con Estadístico de Hopkings y VAT"
   ]
  },
  {
   "cell_type": "markdown",
   "metadata": {},
   "source": [
    "#### VoteAvg, VoteCount"
   ]
  },
  {
   "cell_type": "code",
   "execution_count": null,
   "metadata": {},
   "outputs": [],
   "source": [
    "votes = datos\n",
    "votes = votes.drop([\"budget\", \"revenue\", \"runtime\", \"popularity\"], axis=1)\n",
    "\n",
    "pyclustertend.hopkins(votes,len(votes))"
   ]
  },
  {
   "cell_type": "code",
   "execution_count": null,
   "metadata": {},
   "outputs": [],
   "source": [
    "pyclustertend.vat(votes)"
   ]
  },
  {
   "cell_type": "markdown",
   "metadata": {},
   "source": [
    "#### VoteAvg, VoteCount, Runtime"
   ]
  },
  {
   "cell_type": "code",
   "execution_count": null,
   "metadata": {},
   "outputs": [],
   "source": [
    "votes_runtime = datos\n",
    "votes_runtime = votes_runtime.drop([\"budget\", \"revenue\", \"popularity\"], axis=1)\n",
    "\n",
    "pyclustertend.hopkins(votes_runtime,len(votes_runtime))"
   ]
  },
  {
   "cell_type": "code",
   "execution_count": null,
   "metadata": {},
   "outputs": [],
   "source": [
    "pyclustertend.vat(votes_runtime)"
   ]
  },
  {
   "cell_type": "markdown",
   "metadata": {},
   "source": [
    "#### Popularity, voteCount"
   ]
  },
  {
   "cell_type": "code",
   "execution_count": null,
   "metadata": {},
   "outputs": [],
   "source": [
    "popularity_votecount = datos\n",
    "popularity_votecount = popularity_votecount.drop([\"budget\", \"revenue\", \"runtime\", \"voteAvg\"], axis=1)\n",
    "\n",
    "pyclustertend.hopkins(popularity_votecount,len(popularity_votecount))"
   ]
  },
  {
   "cell_type": "code",
   "execution_count": null,
   "metadata": {},
   "outputs": [],
   "source": [
    "pyclustertend.vat(popularity_votecount)"
   ]
  },
  {
   "cell_type": "markdown",
   "metadata": {},
   "source": [
    "#### VoteCount, VoteAvg, Popularity"
   ]
  },
  {
   "cell_type": "code",
   "execution_count": null,
   "metadata": {},
   "outputs": [],
   "source": [
    "votes_popularity = datos\n",
    "votes_popularity = votes_popularity.drop([\"budget\", \"revenue\", \"runtime\"], axis=1)\n",
    "\n",
    "pyclustertend.hopkins(votes_popularity,len(votes_popularity))"
   ]
  },
  {
   "cell_type": "code",
   "execution_count": null,
   "metadata": {},
   "outputs": [],
   "source": [
    "pyclustertend.vat(votes_popularity)"
   ]
  }
 ],
 "metadata": {
  "kernelspec": {
   "display_name": "Python 3 (ipykernel)",
   "language": "python",
   "name": "python3"
  },
  "language_info": {
   "codemirror_mode": {
    "name": "ipython",
    "version": 3
   },
   "file_extension": ".py",
   "mimetype": "text/x-python",
   "name": "python",
   "nbconvert_exporter": "python",
   "pygments_lexer": "ipython3",
   "version": "3.9.5"
  }
 },
 "nbformat": 4,
 "nbformat_minor": 2
}
