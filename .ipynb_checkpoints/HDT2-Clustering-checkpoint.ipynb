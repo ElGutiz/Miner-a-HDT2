{
 "cells": [
  {
   "cell_type": "markdown",
   "metadata": {},
   "source": [
    "Universidad del Valle de Guatemala <br>\n",
    "28/01/2022 <br>\n",
    "Minería de Datos # 20 \n",
    "\n",
    "# Hoja de Trabajo 2\n",
    "## Clustering\n",
    "\n",
    "**Integrantes:**<br>\n",
    "Walter Saldaña 19897 <br>\n",
    "José Gutierrez 19111 <br>\n",
    "Javier Cotto 19324 <br>"
   ]
  },
  {
   "cell_type": "markdown",
   "metadata": {},
   "source": [
    "Importar modulos"
   ]
  },
  {
   "cell_type": "code",
   "execution_count": 72,
   "metadata": {},
   "outputs": [],
   "source": [
    "import pandas as pd\n",
    "import numpy as np\n",
    "import matplotlib.pyplot as plt\n",
    "from sklearn import datasets\n",
    "import seaborn as sb\n",
    "import sklearn.cluster as cluster\n",
    "import sklearn.metrics as metrics\n",
    "import sklearn.preprocessing\n",
    "import scipy.cluster.hierarchy as sch\n",
    "import skfuzzy as fuzz\n",
    "import pylab\n",
    "import sklearn.mixture as mixture\n",
    "import pyclustertend \n",
    "import random\n",
    "\n",
    "%matplotlib inline\n",
    "from mpl_toolkits.mplot3d import Axes3D\n",
    "plt.rcParams['figure.figsize'] = (16, 9)\n",
    "plt.style.use('ggplot')"
   ]
  },
  {
   "cell_type": "markdown",
   "metadata": {},
   "source": [
    "Cargar la base de datos a pandas"
   ]
  },
  {
   "cell_type": "code",
   "execution_count": 80,
   "metadata": {},
   "outputs": [
    {
     "data": {
      "text/html": [
       "<div>\n",
       "<style scoped>\n",
       "    .dataframe tbody tr th:only-of-type {\n",
       "        vertical-align: middle;\n",
       "    }\n",
       "\n",
       "    .dataframe tbody tr th {\n",
       "        vertical-align: top;\n",
       "    }\n",
       "\n",
       "    .dataframe thead th {\n",
       "        text-align: right;\n",
       "    }\n",
       "</style>\n",
       "<table border=\"1\" class=\"dataframe\">\n",
       "  <thead>\n",
       "    <tr style=\"text-align: right;\">\n",
       "      <th></th>\n",
       "      <th>id</th>\n",
       "      <th>budget</th>\n",
       "      <th>genres</th>\n",
       "      <th>homePage</th>\n",
       "      <th>productionCompany</th>\n",
       "      <th>productionCompanyCountry</th>\n",
       "      <th>productionCountry</th>\n",
       "      <th>revenue</th>\n",
       "      <th>runtime</th>\n",
       "      <th>video</th>\n",
       "      <th>...</th>\n",
       "      <th>popularity</th>\n",
       "      <th>releaseDate</th>\n",
       "      <th>voteAvg</th>\n",
       "      <th>voteCount</th>\n",
       "      <th>genresAmount</th>\n",
       "      <th>productionCoAmount</th>\n",
       "      <th>productionCountriesAmount</th>\n",
       "      <th>actorsAmount</th>\n",
       "      <th>castWomenAmount</th>\n",
       "      <th>castMenAmount</th>\n",
       "    </tr>\n",
       "  </thead>\n",
       "  <tbody>\n",
       "    <tr>\n",
       "      <th>0</th>\n",
       "      <td>5</td>\n",
       "      <td>4000000</td>\n",
       "      <td>Crime|Comedy</td>\n",
       "      <td>https://www.miramax.com/movie/four-rooms/</td>\n",
       "      <td>Miramax|A Band Apart</td>\n",
       "      <td>US|US</td>\n",
       "      <td>United States of America</td>\n",
       "      <td>4257354.0</td>\n",
       "      <td>98</td>\n",
       "      <td>False</td>\n",
       "      <td>...</td>\n",
       "      <td>20.880</td>\n",
       "      <td>1995-12-09</td>\n",
       "      <td>5.7</td>\n",
       "      <td>2077</td>\n",
       "      <td>2</td>\n",
       "      <td>2</td>\n",
       "      <td>1</td>\n",
       "      <td>25</td>\n",
       "      <td>15</td>\n",
       "      <td>9</td>\n",
       "    </tr>\n",
       "    <tr>\n",
       "      <th>1</th>\n",
       "      <td>6</td>\n",
       "      <td>21000000</td>\n",
       "      <td>Action|Thriller|Crime</td>\n",
       "      <td>NaN</td>\n",
       "      <td>Universal Pictures|Largo Entertainment|JVC</td>\n",
       "      <td>US|US|JP</td>\n",
       "      <td>Japan|United States of America</td>\n",
       "      <td>12136938.0</td>\n",
       "      <td>110</td>\n",
       "      <td>False</td>\n",
       "      <td>...</td>\n",
       "      <td>9.596</td>\n",
       "      <td>1993-10-15</td>\n",
       "      <td>6.5</td>\n",
       "      <td>223</td>\n",
       "      <td>3</td>\n",
       "      <td>3</td>\n",
       "      <td>2</td>\n",
       "      <td>15</td>\n",
       "      <td>3</td>\n",
       "      <td>9</td>\n",
       "    </tr>\n",
       "    <tr>\n",
       "      <th>2</th>\n",
       "      <td>11</td>\n",
       "      <td>11000000</td>\n",
       "      <td>Adventure|Action|Science Fiction</td>\n",
       "      <td>http://www.starwars.com/films/star-wars-episod...</td>\n",
       "      <td>Lucasfilm|20th Century Fox</td>\n",
       "      <td>US|US</td>\n",
       "      <td>United States of America</td>\n",
       "      <td>775398007.0</td>\n",
       "      <td>121</td>\n",
       "      <td>NaN</td>\n",
       "      <td>...</td>\n",
       "      <td>100.003</td>\n",
       "      <td>1977-05-25</td>\n",
       "      <td>8.2</td>\n",
       "      <td>16598</td>\n",
       "      <td>3</td>\n",
       "      <td>2</td>\n",
       "      <td>1</td>\n",
       "      <td>105</td>\n",
       "      <td>5</td>\n",
       "      <td>62</td>\n",
       "    </tr>\n",
       "    <tr>\n",
       "      <th>3</th>\n",
       "      <td>12</td>\n",
       "      <td>94000000</td>\n",
       "      <td>Animation|Family</td>\n",
       "      <td>http://movies.disney.com/finding-nemo</td>\n",
       "      <td>Pixar</td>\n",
       "      <td>US</td>\n",
       "      <td>United States of America</td>\n",
       "      <td>940335536.0</td>\n",
       "      <td>100</td>\n",
       "      <td>NaN</td>\n",
       "      <td>...</td>\n",
       "      <td>134.435</td>\n",
       "      <td>2003-05-30</td>\n",
       "      <td>7.8</td>\n",
       "      <td>15928</td>\n",
       "      <td>2</td>\n",
       "      <td>1</td>\n",
       "      <td>1</td>\n",
       "      <td>24</td>\n",
       "      <td>5</td>\n",
       "      <td>18</td>\n",
       "    </tr>\n",
       "    <tr>\n",
       "      <th>4</th>\n",
       "      <td>13</td>\n",
       "      <td>55000000</td>\n",
       "      <td>Comedy|Drama|Romance</td>\n",
       "      <td>NaN</td>\n",
       "      <td>Paramount|The Steve Tisch Company</td>\n",
       "      <td>US|</td>\n",
       "      <td>United States of America</td>\n",
       "      <td>677387716.0</td>\n",
       "      <td>142</td>\n",
       "      <td>False</td>\n",
       "      <td>...</td>\n",
       "      <td>58.751</td>\n",
       "      <td>1994-07-06</td>\n",
       "      <td>8.5</td>\n",
       "      <td>22045</td>\n",
       "      <td>3</td>\n",
       "      <td>2</td>\n",
       "      <td>1</td>\n",
       "      <td>76</td>\n",
       "      <td>18</td>\n",
       "      <td>48</td>\n",
       "    </tr>\n",
       "  </tbody>\n",
       "</table>\n",
       "<p>5 rows × 27 columns</p>\n",
       "</div>"
      ],
      "text/plain": [
       "   id    budget                            genres  \\\n",
       "0   5   4000000                      Crime|Comedy   \n",
       "1   6  21000000             Action|Thriller|Crime   \n",
       "2  11  11000000  Adventure|Action|Science Fiction   \n",
       "3  12  94000000                  Animation|Family   \n",
       "4  13  55000000              Comedy|Drama|Romance   \n",
       "\n",
       "                                            homePage  \\\n",
       "0          https://www.miramax.com/movie/four-rooms/   \n",
       "1                                                NaN   \n",
       "2  http://www.starwars.com/films/star-wars-episod...   \n",
       "3              http://movies.disney.com/finding-nemo   \n",
       "4                                                NaN   \n",
       "\n",
       "                            productionCompany productionCompanyCountry  \\\n",
       "0                        Miramax|A Band Apart                    US|US   \n",
       "1  Universal Pictures|Largo Entertainment|JVC                 US|US|JP   \n",
       "2                  Lucasfilm|20th Century Fox                    US|US   \n",
       "3                                       Pixar                       US   \n",
       "4           Paramount|The Steve Tisch Company                      US|   \n",
       "\n",
       "                productionCountry      revenue  runtime  video  ...  \\\n",
       "0        United States of America    4257354.0       98  False  ...   \n",
       "1  Japan|United States of America   12136938.0      110  False  ...   \n",
       "2        United States of America  775398007.0      121    NaN  ...   \n",
       "3        United States of America  940335536.0      100    NaN  ...   \n",
       "4        United States of America  677387716.0      142  False  ...   \n",
       "\n",
       "  popularity releaseDate voteAvg voteCount genresAmount productionCoAmount  \\\n",
       "0     20.880  1995-12-09     5.7      2077            2                  2   \n",
       "1      9.596  1993-10-15     6.5       223            3                  3   \n",
       "2    100.003  1977-05-25     8.2     16598            3                  2   \n",
       "3    134.435  2003-05-30     7.8     15928            2                  1   \n",
       "4     58.751  1994-07-06     8.5     22045            3                  2   \n",
       "\n",
       "  productionCountriesAmount  actorsAmount castWomenAmount  castMenAmount  \n",
       "0                         1            25              15              9  \n",
       "1                         2            15               3              9  \n",
       "2                         1           105               5             62  \n",
       "3                         1            24               5             18  \n",
       "4                         1            76              18             48  \n",
       "\n",
       "[5 rows x 27 columns]"
      ]
     },
     "execution_count": 80,
     "metadata": {},
     "output_type": "execute_result"
    }
   ],
   "source": [
    "datos = pd.read_csv('movies.csv', encoding='unicode_escape')\n",
    "datos.head()"
   ]
  },
  {
   "cell_type": "markdown",
   "metadata": {},
   "source": [
    "## 1) Preprocesamiento de datos\n",
    "Remover variables cualitativas que no aportan, ya que no son categóricas, y sus frecuencias no pueden ser clasificadas."
   ]
  },
  {
   "cell_type": "code",
   "execution_count": 81,
   "metadata": {},
   "outputs": [
    {
     "data": {
      "text/html": [
       "<div>\n",
       "<style scoped>\n",
       "    .dataframe tbody tr th:only-of-type {\n",
       "        vertical-align: middle;\n",
       "    }\n",
       "\n",
       "    .dataframe tbody tr th {\n",
       "        vertical-align: top;\n",
       "    }\n",
       "\n",
       "    .dataframe thead th {\n",
       "        text-align: right;\n",
       "    }\n",
       "</style>\n",
       "<table border=\"1\" class=\"dataframe\">\n",
       "  <thead>\n",
       "    <tr style=\"text-align: right;\">\n",
       "      <th></th>\n",
       "      <th>budget</th>\n",
       "      <th>revenue</th>\n",
       "      <th>runtime</th>\n",
       "      <th>popularity</th>\n",
       "      <th>voteAvg</th>\n",
       "      <th>voteCount</th>\n",
       "    </tr>\n",
       "  </thead>\n",
       "  <tbody>\n",
       "    <tr>\n",
       "      <th>0</th>\n",
       "      <td>4000000</td>\n",
       "      <td>4257354.0</td>\n",
       "      <td>98</td>\n",
       "      <td>20.880</td>\n",
       "      <td>5.7</td>\n",
       "      <td>2077</td>\n",
       "    </tr>\n",
       "    <tr>\n",
       "      <th>1</th>\n",
       "      <td>21000000</td>\n",
       "      <td>12136938.0</td>\n",
       "      <td>110</td>\n",
       "      <td>9.596</td>\n",
       "      <td>6.5</td>\n",
       "      <td>223</td>\n",
       "    </tr>\n",
       "    <tr>\n",
       "      <th>2</th>\n",
       "      <td>11000000</td>\n",
       "      <td>775398007.0</td>\n",
       "      <td>121</td>\n",
       "      <td>100.003</td>\n",
       "      <td>8.2</td>\n",
       "      <td>16598</td>\n",
       "    </tr>\n",
       "    <tr>\n",
       "      <th>3</th>\n",
       "      <td>94000000</td>\n",
       "      <td>940335536.0</td>\n",
       "      <td>100</td>\n",
       "      <td>134.435</td>\n",
       "      <td>7.8</td>\n",
       "      <td>15928</td>\n",
       "    </tr>\n",
       "    <tr>\n",
       "      <th>4</th>\n",
       "      <td>55000000</td>\n",
       "      <td>677387716.0</td>\n",
       "      <td>142</td>\n",
       "      <td>58.751</td>\n",
       "      <td>8.5</td>\n",
       "      <td>22045</td>\n",
       "    </tr>\n",
       "  </tbody>\n",
       "</table>\n",
       "</div>"
      ],
      "text/plain": [
       "     budget      revenue  runtime  popularity  voteAvg  voteCount\n",
       "0   4000000    4257354.0       98      20.880      5.7       2077\n",
       "1  21000000   12136938.0      110       9.596      6.5        223\n",
       "2  11000000  775398007.0      121     100.003      8.2      16598\n",
       "3  94000000  940335536.0      100     134.435      7.8      15928\n",
       "4  55000000  677387716.0      142      58.751      8.5      22045"
      ]
     },
     "execution_count": 81,
     "metadata": {},
     "output_type": "execute_result"
    }
   ],
   "source": [
    "datos = datos.drop([\"id\", \"originalTitle\", \"originalLanguage\", \"title\", \"homePage\", \"video\", \"director\", \"genres\", \"productionCompany\", \"productionCompanyCountry\", \"productionCountry\", \"actors\", \"actorsPopularity\", \"actorsCharacter\", \"releaseDate\", \"castMenAmount\", \"castWomenAmount\", \"productionCoAmount\", \"productionCountriesAmount\", \"actorsAmount\", \"genresAmount\"], axis=1)\n",
    "datos.head()"
   ]
  },
  {
   "cell_type": "markdown",
   "metadata": {},
   "source": [
    "### Resumen estadístico de las variables"
   ]
  },
  {
   "cell_type": "code",
   "execution_count": 82,
   "metadata": {},
   "outputs": [
    {
     "data": {
      "text/html": [
       "<div>\n",
       "<style scoped>\n",
       "    .dataframe tbody tr th:only-of-type {\n",
       "        vertical-align: middle;\n",
       "    }\n",
       "\n",
       "    .dataframe tbody tr th {\n",
       "        vertical-align: top;\n",
       "    }\n",
       "\n",
       "    .dataframe thead th {\n",
       "        text-align: right;\n",
       "    }\n",
       "</style>\n",
       "<table border=\"1\" class=\"dataframe\">\n",
       "  <thead>\n",
       "    <tr style=\"text-align: right;\">\n",
       "      <th></th>\n",
       "      <th>budget</th>\n",
       "      <th>revenue</th>\n",
       "      <th>runtime</th>\n",
       "      <th>popularity</th>\n",
       "      <th>voteAvg</th>\n",
       "      <th>voteCount</th>\n",
       "    </tr>\n",
       "  </thead>\n",
       "  <tbody>\n",
       "    <tr>\n",
       "      <th>count</th>\n",
       "      <td>1.000000e+04</td>\n",
       "      <td>1.000000e+04</td>\n",
       "      <td>10000.000000</td>\n",
       "      <td>10000.000000</td>\n",
       "      <td>10000.000000</td>\n",
       "      <td>10000.000000</td>\n",
       "    </tr>\n",
       "    <tr>\n",
       "      <th>mean</th>\n",
       "      <td>1.855163e+07</td>\n",
       "      <td>5.673793e+07</td>\n",
       "      <td>100.268100</td>\n",
       "      <td>51.393907</td>\n",
       "      <td>6.483490</td>\n",
       "      <td>1342.381800</td>\n",
       "    </tr>\n",
       "    <tr>\n",
       "      <th>std</th>\n",
       "      <td>3.662669e+07</td>\n",
       "      <td>1.495854e+08</td>\n",
       "      <td>27.777829</td>\n",
       "      <td>216.729552</td>\n",
       "      <td>0.984274</td>\n",
       "      <td>2564.196637</td>\n",
       "    </tr>\n",
       "    <tr>\n",
       "      <th>min</th>\n",
       "      <td>0.000000e+00</td>\n",
       "      <td>0.000000e+00</td>\n",
       "      <td>0.000000</td>\n",
       "      <td>4.258000</td>\n",
       "      <td>1.300000</td>\n",
       "      <td>1.000000</td>\n",
       "    </tr>\n",
       "    <tr>\n",
       "      <th>25%</th>\n",
       "      <td>0.000000e+00</td>\n",
       "      <td>0.000000e+00</td>\n",
       "      <td>90.000000</td>\n",
       "      <td>14.577750</td>\n",
       "      <td>5.900000</td>\n",
       "      <td>120.000000</td>\n",
       "    </tr>\n",
       "    <tr>\n",
       "      <th>50%</th>\n",
       "      <td>5.000000e+05</td>\n",
       "      <td>1.631245e+05</td>\n",
       "      <td>100.000000</td>\n",
       "      <td>21.905500</td>\n",
       "      <td>6.500000</td>\n",
       "      <td>415.000000</td>\n",
       "    </tr>\n",
       "    <tr>\n",
       "      <th>75%</th>\n",
       "      <td>2.000000e+07</td>\n",
       "      <td>4.479661e+07</td>\n",
       "      <td>113.000000</td>\n",
       "      <td>40.654000</td>\n",
       "      <td>7.200000</td>\n",
       "      <td>1316.000000</td>\n",
       "    </tr>\n",
       "    <tr>\n",
       "      <th>max</th>\n",
       "      <td>3.800000e+08</td>\n",
       "      <td>2.847246e+09</td>\n",
       "      <td>750.000000</td>\n",
       "      <td>11474.647000</td>\n",
       "      <td>10.000000</td>\n",
       "      <td>30788.000000</td>\n",
       "    </tr>\n",
       "  </tbody>\n",
       "</table>\n",
       "</div>"
      ],
      "text/plain": [
       "             budget       revenue       runtime    popularity       voteAvg  \\\n",
       "count  1.000000e+04  1.000000e+04  10000.000000  10000.000000  10000.000000   \n",
       "mean   1.855163e+07  5.673793e+07    100.268100     51.393907      6.483490   \n",
       "std    3.662669e+07  1.495854e+08     27.777829    216.729552      0.984274   \n",
       "min    0.000000e+00  0.000000e+00      0.000000      4.258000      1.300000   \n",
       "25%    0.000000e+00  0.000000e+00     90.000000     14.577750      5.900000   \n",
       "50%    5.000000e+05  1.631245e+05    100.000000     21.905500      6.500000   \n",
       "75%    2.000000e+07  4.479661e+07    113.000000     40.654000      7.200000   \n",
       "max    3.800000e+08  2.847246e+09    750.000000  11474.647000     10.000000   \n",
       "\n",
       "          voteCount  \n",
       "count  10000.000000  \n",
       "mean    1342.381800  \n",
       "std     2564.196637  \n",
       "min        1.000000  \n",
       "25%      120.000000  \n",
       "50%      415.000000  \n",
       "75%     1316.000000  \n",
       "max    30788.000000  "
      ]
     },
     "execution_count": 82,
     "metadata": {},
     "output_type": "execute_result"
    }
   ],
   "source": [
    "datos.describe()"
   ]
  },
  {
   "cell_type": "markdown",
   "metadata": {},
   "source": [
    "### Análisis de la columna BUDGET"
   ]
  },
  {
   "cell_type": "code",
   "execution_count": 83,
   "metadata": {
    "scrolled": false
   },
   "outputs": [
    {
     "data": {
      "image/png": "[encoded data removed]",
      "text/plain": [
       "<Figure size 1152x648 with 1 Axes>"
      ]
     },
     "metadata": {},
     "output_type": "display_data"
    }
   ],
   "source": [
    "plt.boxplot(datos.budget)\n",
    "plt.show()"
   ]
  },
  {
   "cell_type": "markdown",
   "metadata": {},
   "source": [
    "Eliminar datos atípicos"
   ]
  },
  {
   "cell_type": "code",
   "execution_count": 87,
   "metadata": {},
   "outputs": [
    {
     "data": {
      "text/html": [
       "<div>\n",
       "<style scoped>\n",
       "    .dataframe tbody tr th:only-of-type {\n",
       "        vertical-align: middle;\n",
       "    }\n",
       "\n",
       "    .dataframe tbody tr th {\n",
       "        vertical-align: top;\n",
       "    }\n",
       "\n",
       "    .dataframe thead th {\n",
       "        text-align: right;\n",
       "    }\n",
       "</style>\n",
       "<table border=\"1\" class=\"dataframe\">\n",
       "  <thead>\n",
       "    <tr style=\"text-align: right;\">\n",
       "      <th></th>\n",
       "      <th>budget</th>\n",
       "      <th>revenue</th>\n",
       "      <th>runtime</th>\n",
       "      <th>popularity</th>\n",
       "      <th>voteAvg</th>\n",
       "      <th>voteCount</th>\n",
       "    </tr>\n",
       "  </thead>\n",
       "  <tbody>\n",
       "    <tr>\n",
       "      <th>0</th>\n",
       "      <td>4000000</td>\n",
       "      <td>4257354.0</td>\n",
       "      <td>98</td>\n",
       "      <td>20.880</td>\n",
       "      <td>5.7</td>\n",
       "      <td>2077</td>\n",
       "    </tr>\n",
       "    <tr>\n",
       "      <th>1</th>\n",
       "      <td>21000000</td>\n",
       "      <td>12136938.0</td>\n",
       "      <td>110</td>\n",
       "      <td>9.596</td>\n",
       "      <td>6.5</td>\n",
       "      <td>223</td>\n",
       "    </tr>\n",
       "    <tr>\n",
       "      <th>2</th>\n",
       "      <td>11000000</td>\n",
       "      <td>775398007.0</td>\n",
       "      <td>121</td>\n",
       "      <td>100.003</td>\n",
       "      <td>8.2</td>\n",
       "      <td>16598</td>\n",
       "    </tr>\n",
       "    <tr>\n",
       "      <th>4</th>\n",
       "      <td>55000000</td>\n",
       "      <td>677387716.0</td>\n",
       "      <td>142</td>\n",
       "      <td>58.751</td>\n",
       "      <td>8.5</td>\n",
       "      <td>22045</td>\n",
       "    </tr>\n",
       "    <tr>\n",
       "      <th>5</th>\n",
       "      <td>15000000</td>\n",
       "      <td>356296601.0</td>\n",
       "      <td>122</td>\n",
       "      <td>33.589</td>\n",
       "      <td>8.0</td>\n",
       "      <td>9951</td>\n",
       "    </tr>\n",
       "    <tr>\n",
       "      <th>...</th>\n",
       "      <td>...</td>\n",
       "      <td>...</td>\n",
       "      <td>...</td>\n",
       "      <td>...</td>\n",
       "      <td>...</td>\n",
       "      <td>...</td>\n",
       "    </tr>\n",
       "    <tr>\n",
       "      <th>9720</th>\n",
       "      <td>5308245</td>\n",
       "      <td>3468053.0</td>\n",
       "      <td>89</td>\n",
       "      <td>128.636</td>\n",
       "      <td>4.8</td>\n",
       "      <td>39</td>\n",
       "    </tr>\n",
       "    <tr>\n",
       "      <th>9754</th>\n",
       "      <td>20000000</td>\n",
       "      <td>0.0</td>\n",
       "      <td>95</td>\n",
       "      <td>23.674</td>\n",
       "      <td>7.3</td>\n",
       "      <td>89</td>\n",
       "    </tr>\n",
       "    <tr>\n",
       "      <th>9773</th>\n",
       "      <td>12400000</td>\n",
       "      <td>0.0</td>\n",
       "      <td>111</td>\n",
       "      <td>751.378</td>\n",
       "      <td>6.1</td>\n",
       "      <td>22</td>\n",
       "    </tr>\n",
       "    <tr>\n",
       "      <th>9778</th>\n",
       "      <td>1000000</td>\n",
       "      <td>0.0</td>\n",
       "      <td>0</td>\n",
       "      <td>22.204</td>\n",
       "      <td>2.0</td>\n",
       "      <td>1</td>\n",
       "    </tr>\n",
       "    <tr>\n",
       "      <th>9897</th>\n",
       "      <td>1200000</td>\n",
       "      <td>0.0</td>\n",
       "      <td>106</td>\n",
       "      <td>134.725</td>\n",
       "      <td>5.9</td>\n",
       "      <td>32</td>\n",
       "    </tr>\n",
       "  </tbody>\n",
       "</table>\n",
       "<p>4475 rows × 6 columns</p>\n",
       "</div>"
      ],
      "text/plain": [
       "        budget      revenue  runtime  popularity  voteAvg  voteCount\n",
       "0      4000000    4257354.0       98      20.880      5.7       2077\n",
       "1     21000000   12136938.0      110       9.596      6.5        223\n",
       "2     11000000  775398007.0      121     100.003      8.2      16598\n",
       "4     55000000  677387716.0      142      58.751      8.5      22045\n",
       "5     15000000  356296601.0      122      33.589      8.0       9951\n",
       "...        ...          ...      ...         ...      ...        ...\n",
       "9720   5308245    3468053.0       89     128.636      4.8         39\n",
       "9754  20000000          0.0       95      23.674      7.3         89\n",
       "9773  12400000          0.0      111     751.378      6.1         22\n",
       "9778   1000000          0.0        0      22.204      2.0          1\n",
       "9897   1200000          0.0      106     134.725      5.9         32\n",
       "\n",
       "[4475 rows x 6 columns]"
      ]
     },
     "execution_count": 87,
     "metadata": {},
     "output_type": "execute_result"
    }
   ],
   "source": [
    "indexes = datos[datos['budget'] < 5e5].index\n",
    "datos.drop(indexes, inplace=True)\n",
    "\n",
    "Q1 = datos.budget.quantile(0.25)\n",
    "Q3 = datos.budget.quantile(0.75)\n",
    "IQR = Q3 - Q1\n",
    "\n",
    "indexes = datos[datos['budget'] < (Q1 - 1.5 * IQR)].index\n",
    "datos.drop(indexes, inplace=True)\n",
    "\n",
    "indexes = datos[datos['budget'] > (Q3 + 1.5 * IQR)].index\n",
    "datos.drop(indexes, inplace=True)\n",
    "\n",
    "datos"
   ]
  },
  {
   "cell_type": "code",
   "execution_count": 88,
   "metadata": {},
   "outputs": [
    {
     "data": {
      "image/png": "[encoded data removed]",
      "text/plain": [
       "<Figure size 1152x648 with 1 Axes>"
      ]
     },
     "metadata": {},
     "output_type": "display_data"
    }
   ],
   "source": [
    "plt.boxplot(datos.budget)\n",
    "plt.show()"
   ]
  },
  {
   "cell_type": "markdown",
   "metadata": {},
   "source": [
    "## 2) Tendencia al agrupamiento"
   ]
  },
  {
   "cell_type": "code",
   "execution_count": 35,
   "metadata": {},
   "outputs": [
    {
     "name": "stdout",
     "output_type": "stream",
     "text": [
      "         budget       revenue\n",
      "163   300000000  9.610000e+08\n",
      "716   380000000  1.045714e+09\n",
      "4710  365000000  1.405404e+09\n",
      "4953  300000000  6.579243e+08\n",
      "5952  356000000  2.797801e+09\n",
      "5953  300000000  2.046240e+09\n",
      "\n",
      "0.6913917868746702\n"
     ]
    },
    {
     "data": {
      "image/png": "[encoded data removed]",
      "text/plain": [
       "<Figure size 720x720 with 1 Axes>"
      ]
     },
     "metadata": {},
     "output_type": "display_data"
    }
   ],
   "source": [
    "primer_agrupamiento = datos\n",
    "primer_agrupamiento = primer_agrupamiento.drop([\"runtime\", \"popularity\", \"voteCount\"], axis=1)\n",
    "print(primer_agrupamiento)\n",
    "print()\n",
    "print(pyclustertend.hopkins(primer_agrupamiento,len(primer_agrupamiento)))\n",
    "pyclustertend.vat(primer_agrupamiento)"
   ]
  },
  {
   "cell_type": "markdown",
   "metadata": {},
   "source": [
    " ## Saber cuantas filas hay de cada categoría"
   ]
  },
  {
   "cell_type": "code",
   "execution_count": null,
   "metadata": {},
   "outputs": [],
   "source": [
    "datos.groupby('Specie').size()"
   ]
  },
  {
   "cell_type": "markdown",
   "metadata": {},
   "source": [
    " Los datos están balanceados 50 para cada categoría"
   ]
  },
  {
   "cell_type": "code",
   "execution_count": null,
   "metadata": {},
   "outputs": [],
   "source": [
    "datos.drop(['Specie'],1).hist()\n",
    "plt.show()"
   ]
  },
  {
   "cell_type": "code",
   "execution_count": null,
   "metadata": {},
   "outputs": [],
   "source": [
    "X = np.array(datos[['Petal.length','Petal.width','Sepal.length', 'Sepal.width']])\n",
    "Y = np.array(datos[['Specie']])\n",
    "X.shape"
   ]
  },
  {
   "cell_type": "markdown",
   "metadata": {},
   "source": [
    " ## ¿Hacemos Agrupamiento?\n",
    "\n",
    " Lo primero que vamos a hacer es verificar si vale la pena hacer el agrupapiento de los datos. Para esto utilizamos el estadístico de Hopkings. Lo que se busca es que el valor de este dato no sea igual a 0.5, lo que significa que los datos son aleatorios por lo que no tiene sentido hacer agrupamiento."
   ]
  },
  {
   "cell_type": "code",
   "execution_count": null,
   "metadata": {},
   "outputs": [],
   "source": [
    "random.seed(150)\n",
    "X_scale=sklearn.preprocessing.scale(X)\n",
    "# X = X_scale\n",
    "pyclustertend.hopkins(X,len(X))"
   ]
  },
  {
   "cell_type": "markdown",
   "metadata": {},
   "source": [
    " Como se puede observar el estadístico de hopkings no es igual a 0.5 por lo que se dice que es factible hacer agrupamiento."
   ]
  },
  {
   "cell_type": "markdown",
   "metadata": {},
   "source": [
    " Lo podemos verificar usando el método gráfico. Haremos un mapa de calor con las distancias para ver si hay algún patró o todo se ve aleatorio. Este mapa de valor se llama \"Evaluación Visual de Tendencia\" o VAT."
   ]
  },
  {
   "cell_type": "markdown",
   "metadata": {},
   "source": [
    " # When should we change outliers?\n",
    " take care of the asymptotic pattern"
   ]
  },
  {
   "cell_type": "code",
   "execution_count": null,
   "metadata": {},
   "outputs": [],
   "source": [
    "pyclustertend.vat(X_scale)"
   ]
  },
  {
   "cell_type": "code",
   "execution_count": null,
   "metadata": {},
   "outputs": [],
   "source": [
    "pyclustertend.vat(X)"
   ]
  },
  {
   "cell_type": "markdown",
   "metadata": {},
   "source": [
    " # Para saber el número de Grupos que se crearán"
   ]
  },
  {
   "cell_type": "markdown",
   "metadata": {},
   "source": [
    " ### Calcular la distancia media entre los puntos de datos y los centroides"
   ]
  },
  {
   "cell_type": "code",
   "execution_count": null,
   "metadata": {},
   "outputs": [],
   "source": [
    "numeroClusters = range(1,11)\n",
    "wcss = []\n",
    "for i in numeroClusters:\n",
    "    kmeans = cluster.KMeans(n_clusters=i)\n",
    "    kmeans.fit(X)\n",
    "    wcss.append(kmeans.inertia_)\n",
    "\n",
    "plt.plot(numeroClusters, wcss)\n",
    "plt.xlabel(\"Número de clusters\")\n",
    "plt.ylabel(\"Score\")\n",
    "plt.title(\"Gráfico de Codo\")\n",
    "plt.show()"
   ]
  },
  {
   "cell_type": "markdown",
   "metadata": {},
   "source": [
    " K = 3 es un buen número"
   ]
  },
  {
   "cell_type": "code",
   "execution_count": null,
   "metadata": {},
   "outputs": [],
   "source": [
    "from sklearn.datasets import make_blobs\n",
    "from sklearn.cluster import KMeans\n",
    "from sklearn.metrics import silhouette_samples, silhouette_score\n",
    "\n",
    "import matplotlib.pyplot as plt\n",
    "import matplotlib.cm as cm\n",
    "import numpy as np\n",
    "\n",
    "# Generating the sample data from make_blobs\n",
    "# This particular setting has one distinct cluster and 3 clusters placed close\n",
    "# together.\n",
    "# X, y = make_blobs(\n",
    "#     n_samples=500,\n",
    "#     n_features=2,\n",
    "#     centers=4,\n",
    "#     cluster_std=1,\n",
    "#     center_box=(-10.0, 10.0),\n",
    "#     shuffle=True,\n",
    "#     random_state=1,\n",
    "# )  # For reproducibility\n",
    "\n",
    "range_n_clusters = [2, 3, 4, 5, 6]\n",
    "\n",
    "for n_clusters in range_n_clusters:\n",
    "    # Create a subplot with 1 row and 2 columns\n",
    "    fig, (ax1, ax2) = plt.subplots(1, 2)\n",
    "    fig.set_size_inches(18, 7)\n",
    "\n",
    "    # The 1st subplot is the silhouette plot\n",
    "    # The silhouette coefficient can range from -1, 1 but in this example all\n",
    "    # lie within [-0.1, 1]\n",
    "    ax1.set_xlim([-0.1, 1])\n",
    "    # The (n_clusters+1)*10 is for inserting blank space between silhouette\n",
    "    # plots of individual clusters, to demarcate them clearly.\n",
    "    ax1.set_ylim([0, len(X) + (n_clusters + 1) * 10])\n",
    "\n",
    "    # Initialize the clusterer with n_clusters value and a random generator\n",
    "    # seed of 10 for reproducibility.\n",
    "    clusterer = KMeans(n_clusters=n_clusters, random_state=10)\n",
    "    cluster_labels = clusterer.fit_predict(X)\n",
    "\n",
    "    # The silhouette_score gives the average value for all the samples.\n",
    "    # This gives a perspective into the density and separation of the formed\n",
    "    # clusters\n",
    "    silhouette_avg = silhouette_score(X, cluster_labels)\n",
    "    print(\n",
    "        \"For n_clusters =\",\n",
    "        n_clusters,\n",
    "        \"The average silhouette_score is :\",\n",
    "        silhouette_avg,\n",
    "    )\n",
    "\n",
    "    # Compute the silhouette scores for each sample\n",
    "    sample_silhouette_values = silhouette_samples(X, cluster_labels)\n",
    "\n",
    "    y_lower = 10\n",
    "    for i in range(n_clusters):\n",
    "        # Aggregate the silhouette scores for samples belonging to\n",
    "        # cluster i, and sort them\n",
    "        ith_cluster_silhouette_values = sample_silhouette_values[cluster_labels == i]\n",
    "\n",
    "        ith_cluster_silhouette_values.sort()\n",
    "\n",
    "        size_cluster_i = ith_cluster_silhouette_values.shape[0]\n",
    "        y_upper = y_lower + size_cluster_i\n",
    "\n",
    "        color = cm.nipy_spectral(float(i) / n_clusters)\n",
    "        ax1.fill_betweenx(\n",
    "            np.arange(y_lower, y_upper),\n",
    "            0,\n",
    "            ith_cluster_silhouette_values,\n",
    "            facecolor=color,\n",
    "            edgecolor=color,\n",
    "            alpha=0.7,\n",
    "        )\n",
    "\n",
    "        # Label the silhouette plots with their cluster numbers at the middle\n",
    "        ax1.text(-0.05, y_lower + 0.5 * size_cluster_i, str(i))\n",
    "\n",
    "        # Compute the new y_lower for next plot\n",
    "        y_lower = y_upper + 10  # 10 for the 0 samples\n",
    "\n",
    "    ax1.set_title(\"The silhouette plot for the various clusters.\")\n",
    "    ax1.set_xlabel(\"The silhouette coefficient values\")\n",
    "    ax1.set_ylabel(\"Cluster label\")\n",
    "\n",
    "    # The vertical line for average silhouette score of all the values\n",
    "    ax1.axvline(x=silhouette_avg, color=\"red\", linestyle=\"--\")\n",
    "\n",
    "    ax1.set_yticks([])  # Clear the yaxis labels / ticks\n",
    "    ax1.set_xticks([-0.1, 0, 0.2, 0.4, 0.6, 0.8, 1])\n",
    "\n",
    "    # 2nd Plot showing the actual clusters formed\n",
    "    colors = cm.nipy_spectral(cluster_labels.astype(float) / n_clusters)\n",
    "    ax2.scatter(\n",
    "        X[:, 0], X[:, 1], marker=\".\", s=30, lw=0, alpha=0.7, c=colors, edgecolor=\"k\"\n",
    "    )\n",
    "\n",
    "    # Labeling the clusters\n",
    "    centers = clusterer.cluster_centers_\n",
    "    # Draw white circles at cluster centers\n",
    "    ax2.scatter(\n",
    "        centers[:, 0],\n",
    "        centers[:, 1],\n",
    "        marker=\"o\",\n",
    "        c=\"white\",\n",
    "        alpha=1,\n",
    "        s=200,\n",
    "        edgecolor=\"k\",\n",
    "    )\n",
    "\n",
    "    for i, c in enumerate(centers):\n",
    "        ax2.scatter(c[0], c[1], marker=\"$%d$\" % i, alpha=1, s=50, edgecolor=\"k\")\n",
    "\n",
    "    ax2.set_title(\"The visualization of the clustered data.\")\n",
    "    ax2.set_xlabel(\"Feature space for the 1st feature\")\n",
    "    ax2.set_ylabel(\"Feature space for the 2nd feature\")\n",
    "\n",
    "    plt.suptitle(\n",
    "        \"Silhouette analysis for KMeans clustering on sample data with n_clusters = %d\"\n",
    "        % n_clusters,\n",
    "        fontsize=14,\n",
    "        fontweight=\"bold\",\n",
    "    )\n",
    "\n",
    "plt.show()"
   ]
  },
  {
   "cell_type": "markdown",
   "metadata": {},
   "source": [
    " # Should we considere just 2 clusters? Even though we have 3 species? Dependencies between species."
   ]
  },
  {
   "cell_type": "code",
   "execution_count": null,
   "metadata": {},
   "outputs": [],
   "source": [
    "# get it from https://towardsdatascience.com/elbows-and-silhouettes-hands-on-customer-segmentation-in-python-66c2e794c552\n",
    "import numpy as np\n",
    "import pandas as pd\n",
    "import matplotlib.pyplot as plt\n",
    "import seaborn as sns\n",
    "\n",
    "from sklearn.cluster import KMeans, MeanShift, estimate_bandwidth\n",
    "from sklearn.preprocessing import StandardScaler, PowerTransformer\n",
    "from sklearn.metrics import silhouette_score\n",
    "from sklearn.model_selection import train_test_split\n",
    "\n",
    "from kmodes.kprototypes import KPrototypes\n",
    "\n",
    "from yellowbrick.cluster import KElbowVisualizer, SilhouetteVisualizer, InterclusterDistance\n",
    "from kneed import KneeLocator\n",
    "\n",
    "from sklearn.decomposition import PCA\n",
    "\n",
    "\n",
    "from tqdm import tqdm\n",
    "import sys\n",
    "import warnings\n",
    "warnings.filterwarnings(\"ignore\")\n",
    "# elbow score plot with Yellowbrick\n",
    "nK = 12    \n",
    "RNDN = 42    \n",
    "def elbowplot(df, elbowmetric, model):\n",
    "    print(\"Elbow Score Plot (\" + str(elbowmetric) + \" metric):\")\n",
    "    vis = KElbowVisualizer(\n",
    "        model, \n",
    "        k=(2,nK), \n",
    "        metric=elbowmetric,\n",
    "        locate_elbow=True, \n",
    "        timings=False)\n",
    "    vis.fit(df)      \n",
    "    print(\"elbow value = optimal k:\", f'{vis.elbow_value_:.0f}', \\\n",
    "            \" | elbow score:\", f'{vis.elbow_score_:,.3f}')\n",
    "    vis.show()  \n",
    "    \n",
    "    \n",
    "    \n",
    "# call elbow plot for each of 3 alternative metrics\n",
    "    # distortion = mean sum of squared distances to center\n",
    "    # silhouette = mean ratio of intra-cluster and nearest-cluster distance\n",
    "    # calinski = ratio of within to between cluster dispersion\n",
    "\n",
    "model = KMeans(random_state=RNDN)\n",
    "_ = [elbowplot(X, m, model) for m in tqdm([\"distortion\", \"silhouette\", \"calinski_harabasz\"])]  "
   ]
  },
  {
   "cell_type": "markdown",
   "metadata": {},
   "source": [
    " ## KMedias"
   ]
  },
  {
   "cell_type": "code",
   "execution_count": null,
   "metadata": {},
   "outputs": [],
   "source": [
    "km = cluster.KMeans(n_clusters=3).fit(X)\n",
    "print (km)"
   ]
  },
  {
   "cell_type": "code",
   "execution_count": null,
   "metadata": {},
   "outputs": [],
   "source": [
    "centroides = km.cluster_centers_\n",
    "print(centroides)"
   ]
  },
  {
   "cell_type": "code",
   "execution_count": null,
   "metadata": {},
   "outputs": [],
   "source": [
    "especies = km.predict(X)"
   ]
  },
  {
   "cell_type": "code",
   "execution_count": null,
   "metadata": {},
   "outputs": [],
   "source": [
    "plt.scatter(X[especies == 0, 0], X[especies == 0, 1],s=100,c='red', label = \"Cluster 1\")\n",
    "plt.scatter(X[especies == 1, 0], X[especies == 1, 1],s=100,c='blue', label = \"Cluster 2\")\n",
    "plt.scatter(X[especies == 2, 0], X[especies == 2, 1],s=100,c='green', label = \"Cluster 3\")\n",
    "plt.scatter(km.cluster_centers_[:,0],km.cluster_centers_[:,1], s=300, c=\"yellow\",marker=\"*\", label=\"Centroides\")\n",
    "plt.title(\"Grupos de Flores\")\n",
    "plt.xlabel(\"Petal.length\")\n",
    "plt.ylabel(\"Petal.width\")\n",
    "plt.legend()"
   ]
  },
  {
   "cell_type": "markdown",
   "metadata": {},
   "source": [
    " ### En tres dimensiones"
   ]
  },
  {
   "cell_type": "code",
   "execution_count": null,
   "metadata": {},
   "outputs": [],
   "source": [
    "colores = ['red','green','blue']\n",
    "asignar = []\n",
    "for especie in especies:\n",
    "    asignar.append(colores[especie])\n",
    "fig = plt.figure()\n",
    "ax = Axes3D(fig)\n",
    "ax.scatter(X[:, 0], X[:, 1], X[:, 2], c=asignar,s=60)\n",
    "ax.scatter(centroides[:, 0], centroides[:, 1], centroides[:, 2], marker='*', c=colores, s=1000)"
   ]
  },
  {
   "cell_type": "markdown",
   "metadata": {},
   "source": [
    " ### Clustering Jerárquico"
   ]
  },
  {
   "cell_type": "code",
   "execution_count": null,
   "metadata": {},
   "outputs": [],
   "source": [
    "dendograma = sch.dendrogram(sch.linkage(X, method='ward'))"
   ]
  },
  {
   "cell_type": "code",
   "execution_count": null,
   "metadata": {},
   "outputs": [],
   "source": [
    "hc = cluster.AgglomerativeClustering(n_clusters=3,affinity='euclidean',linkage='ward')\n",
    "especieHC = hc.fit_predict(X)\n",
    "especieHC\n",
    "X"
   ]
  },
  {
   "cell_type": "code",
   "execution_count": null,
   "metadata": {},
   "outputs": [],
   "source": [
    "plt.scatter(X[especieHC == 0, 0], X[especieHC == 0, 1],s=100,c='red', label = \"Cluster 1\")\n",
    "plt.scatter(X[especieHC == 1, 0], X[especieHC == 1, 1],s=100,c='blue', label = \"Cluster 2\")\n",
    "plt.scatter(X[especieHC == 2, 0], X[especieHC == 2, 1],s=100,c='green', label = \"Cluster 3\")\n",
    "plt.scatter(km.cluster_centers_[:,0],km.cluster_centers_[:,1], s=300, c=\"yellow\",marker=\"*\", label=\"Centroides\")\n",
    "plt.title(\"Grupos de Flores\")\n",
    "plt.xlabel(\"Petal.length\")\n",
    "plt.ylabel(\"Petal.width\")\n",
    "plt.legend()"
   ]
  },
  {
   "cell_type": "markdown",
   "metadata": {},
   "source": [
    " ### Fuzzy C-Means"
   ]
  },
  {
   "cell_type": "code",
   "execution_count": null,
   "metadata": {},
   "outputs": [],
   "source": [
    "#Hay que instalarlo así: pip install -U scikit-fuzzy"
   ]
  },
  {
   "cell_type": "code",
   "execution_count": null,
   "metadata": {},
   "outputs": [],
   "source": [
    "#pip install fuzzy-c-means\n",
    "import numpy as np\n",
    "from fcmeans import FCM # is inside the fuzzy-c-means installation\n",
    "from matplotlib import pyplot as plt\n",
    "\n",
    "fcm = FCM(n_clusters=3)\n",
    "fcm.fit(X)\n",
    "\n",
    "# outputs\n",
    "fcm_centers = fcm.centers\n",
    "fcm_labels = fcm.predict(X)\n",
    "\n",
    "# plot result\n",
    "# f, axes = plt.subplots(1, 2, figsize=(11,5))\n",
    "# axes[0].scatter(X[:,0], X[:,1], alpha=.1)\n",
    "# axes[1].scatter(X[:,0], X[:,1], c=fcm_labels, alpha=.1)\n",
    "# axes[1].scatter(fcm_centers[:,0], fcm_centers[:,1], marker=\"+\", s=500, c='w')\n",
    "# plt.show()\n",
    "\n",
    "plt.scatter(X[:, 0], X[:, 1], c=fcm_labels, s=40,cmap=\"viridis\");"
   ]
  },
  {
   "cell_type": "markdown",
   "metadata": {},
   "source": [
    " ## Mixtures of Gaussians"
   ]
  },
  {
   "cell_type": "code",
   "execution_count": null,
   "metadata": {},
   "outputs": [],
   "source": [
    "gmm = mixture.GaussianMixture(n_components = 3).fit(X)\n",
    "labels = gmm.predict(X)\n",
    "labels\n",
    "plt.scatter(X[:, 0], X[:, 1], c=labels, s=40,cmap=\"viridis\");"
   ]
  },
  {
   "cell_type": "markdown",
   "metadata": {},
   "source": [
    " Referencia:\n",
    " https://jakevdp.github.io/PythonDataScienceHandbook/05.12-gaussian-mixtures.html"
   ]
  },
  {
   "cell_type": "code",
   "execution_count": null,
   "metadata": {},
   "outputs": [],
   "source": [
    "# silhouette\n",
    "# gaussian mixture\n",
    "# kmeans\n",
    "# aglomerativo \n",
    "# fuzzy ver la pertenencia de los puntos\n",
    "# visualizaciones\n",
    "# comprar con datos verdaderos\n",
    "\n",
    "especieHC"
   ]
  },
  {
   "cell_type": "code",
   "execution_count": null,
   "metadata": {},
   "outputs": [],
   "source": [
    "# Confusion Matrix Kmeans\n",
    "from sklearn.metrics import confusion_matrix\n",
    "confusion_matrix(especies, Y)"
   ]
  },
  {
   "cell_type": "code",
   "execution_count": null,
   "metadata": {},
   "outputs": [],
   "source": [
    "# Confusion Matrix Hierarchical cluestering\n",
    "from sklearn.metrics import confusion_matrix\n",
    "confusion_matrix(especieHC, Y)"
   ]
  },
  {
   "cell_type": "code",
   "execution_count": null,
   "metadata": {},
   "outputs": [],
   "source": [
    "# Confusion Matrix Fuzzy\n",
    "from sklearn.metrics import confusion_matrix\n",
    "confusion_matrix(fcm_labels, Y)"
   ]
  },
  {
   "cell_type": "code",
   "execution_count": null,
   "metadata": {},
   "outputs": [],
   "source": [
    "# Confusion Matrix Gaussian Mixture\n",
    "from sklearn.metrics import confusion_matrix\n",
    "confusion_matrix(labels, Y)"
   ]
  }
 ],
 "metadata": {
  "kernelspec": {
   "display_name": "Python 3 (ipykernel)",
   "language": "python",
   "name": "python3"
  },
  "language_info": {
   "codemirror_mode": {
    "name": "ipython",
    "version": 3
   },
   "file_extension": ".py",
   "mimetype": "text/x-python",
   "name": "python",
   "nbconvert_exporter": "python",
   "pygments_lexer": "ipython3",
   "version": "3.9.5"
  }
 },
 "nbformat": 4,
 "nbformat_minor": 2
}
